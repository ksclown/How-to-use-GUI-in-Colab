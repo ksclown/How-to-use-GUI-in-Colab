{
 "cells": [
  {
   "cell_type": "markdown",
   "metadata": {},
   "source": [
    "<span style=\"color:grey\"> By Seongchan Kang </span>\n",
    "\n",
    "<span style=\"color:grey\"> Version : Python 3.10.1 in Window </span>\n",
    "\n",
    "# 모델링(Modeling) 기법 선택\n",
    "\n",
    "현재 올리지는 못했지만 올리고 싶었던 선택 알고리즘을 통해 모델링할 기법을 고름.\n",
    "\n",
    "- 데이터가 글이나 시계열은 아님\n",
    "- 범주를 예측함\n",
    "- 데이터가 식별값을 가짐\n",
    "- 그렇다면 분류에 해당함(로지스틱 회귀, 선형, 최근접, svm, 딥러닝, 의사결정 나무 등...)\n",
    "- 2번째로는 의사결정 나무(Decsion Tree)를 실습하고자 함\n",
    "\n",
    "# 의사결정 나무란\n",
    "\n",
    "로지스틱 회귀의 경우 이중분류라고 한다면, 의사결정 나무는 다중 분류라고 볼 수 있음\n",
    "\n",
    "아래로 뻗어나가는 가지만큼 과대 적합이나 과서 적합이 이루어질 수 있음\n",
    "\n",
    "이를 유의하고 적절한 가지수를 정하는게 중요\n",
    "\n",
    "아래 URL링크는 의사결정나무의 장단점 등을 잘 정리하는거 같아서 가져옴\n",
    "\n",
    "<span>https://rk1993.tistory.com/entry/%EC%9D%98%EC%82%AC%EA%B2%B0%EC%A0%95%ED%8A%B8%EB%A6%ACDecision-Tree-%EC%89%BD%EA%B2%8C-%EC%9D%B4%ED%95%B4%ED%95%98%EA%B8%B0</span>"
   ]
  },
  {
   "cell_type": "code",
   "execution_count": null,
   "metadata": {},
   "outputs": [],
   "source": []
  }
 ],
 "metadata": {
  "kernelspec": {
   "display_name": "Python 3.10.1 64-bit",
   "language": "python",
   "name": "python3"
  },
  "language_info": {
   "name": "python",
   "version": "3.10.1"
  },
  "orig_nbformat": 4,
  "vscode": {
   "interpreter": {
    "hash": "c5c2c3c852cea3612ae75d7177c7db88d742ce4c76218675a91b833287f5ecf2"
   }
  }
 },
 "nbformat": 4,
 "nbformat_minor": 2
}
