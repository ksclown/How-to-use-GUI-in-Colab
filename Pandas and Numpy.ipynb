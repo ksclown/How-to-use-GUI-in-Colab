{
 "cells": [
  {
   "cell_type": "markdown",
   "metadata": {},
   "source": [
    "<span style=\"color:grey\"> By Seongchan Kang </span>"
   ]
  },
  {
   "cell_type": "markdown",
   "metadata": {},
   "source": [
    "<span style=\"color:grey\"> Version : Python 3.10.1 in Window </span>"
   ]
  },
  {
   "cell_type": "markdown",
   "metadata": {},
   "source": [
    "참고 자료\n",
    "-\n",
    "-\n",
    "-"
   ]
  },
  {
   "cell_type": "markdown",
   "metadata": {},
   "source": []
  },
  {
   "cell_type": "markdown",
   "metadata": {},
   "source": [
    "# Pandas와 Numpy\n",
    "\n",
    "저장소 제목이 ML(Machine Learning)이지만 pandas와 numpy가 먼저 나오는 이유\n",
    "\n",
    "- 데이터를 다루기 위해 필수적으로 라이브러리들이라 생각되기 때문\n",
    "- 정형 데이터를 다루고 하는데 요긴함\n",
    "- 물론 비정형 데이터는 다를 수 있음"
   ]
  },
  {
   "cell_type": "markdown",
   "metadata": {},
   "source": [
    "## Pandas\n",
    "\n",
    "- 데이터분석 라이브러리\n",
    "- 흔히, 데이터 프레임을 만들어서 데이터를 처리할 수 있음.\n",
    "- 이후의 머신러닝에서도 실습할 수 있게 유명한 데이터중 하나인 타이타닉 데이터(캐클)를 다운 받음\n",
    "- "
   ]
  },
  {
   "cell_type": "code",
   "execution_count": null,
   "metadata": {},
   "outputs": [],
   "source": []
  }
 ],
 "metadata": {
  "language_info": {
   "name": "python"
  },
  "orig_nbformat": 4
 },
 "nbformat": 4,
 "nbformat_minor": 2
}
