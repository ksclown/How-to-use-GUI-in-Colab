{
 "cells": [
  {
   "cell_type": "markdown",
   "metadata": {},
   "source": [
    "<span style=\"color:grey\"> By Seongchan Kang </span>\n",
    "\n",
    "<span style=\"color:grey\"> Version : Python 3.10.1 in Window </span>\n",
    "\n",
    "# 모델링(Modeling) 기법 선택\n",
    "\n",
    "현재 올리지는 못했지만 올리고 싶었던 선택 알고리즘을 통해 모델링할 기법을 고름.\n",
    "\n",
    "- 데이터가 글이나 시계열은 아님\n",
    "- 범주를 예측함\n",
    "- 데이터가 식별값을 가짐\n",
    "- 그렇다면 분류에 해당함(로지스틱 회귀, 선형, 최근접, svm, 딥러닝, 의사결정 나무 등...)\n",
    "- 2번째로는 의사결정 나무(Decsion Tree)를 실습하고자 함\n",
    "- 로지스틱 회귀의 경우 이중분류라고 한다면, 의사결정 나무는 다중 분류라고 볼 수 있음. 두 가지의 결과를 비교하고자 함.\n",
    "\n",
    "# 의사결정 나무란\n",
    "\n",
    "아래로 뻗어나가는 가지만큼 과대 적합이나 과서 적합이 이루어질 수 있음\n",
    "\n",
    "이를 유의하고 적절한 가지수를 정하는게 중요\n",
    "\n",
    "아래 URL링크는 의사결정나무의 장단점 등을 잘 정리하는거 같아서 가져옴\n",
    "\n",
    "<span>https://rk1993.tistory.com/entry/%EC%9D%98%EC%82%AC%EA%B2%B0%EC%A0%95%ED%8A%B8%EB%A6%ACDecision-Tree-%EC%89%BD%EA%B2%8C-%EC%9D%B4%ED%95%B4%ED%95%98%EA%B8%B0</span>\n",
    "\n",
    "# 의사결정나무 실습\n",
    "\n",
    "## 라이브러리 및 파일 불러오기\n",
    "\n",
    "1. 라이브러리 불러오기\n",
    "2. 파일 불러오기\n",
    "3. 파일 전처리 (이부분은 앞에서 완료)"
   ]
  },
  {
   "cell_type": "code",
   "execution_count": 2,
   "metadata": {},
   "outputs": [],
   "source": [
    "# 기본 라이브러리\n",
    "import pandas as pd\n",
    "import numpy as np\n",
    "import matplotlib.pyplot as plt\n",
    "\n",
    "# 분할에 필요\n",
    "from sklearn.model_selection import train_test_split\n",
    "\n",
    "# 모델링에 필요한 라이브러리\n",
    "from sklearn.tree import DecisionTreeClassifier\n",
    "from sklearn.model_selection import GridSearchCV\n",
    "\n",
    "# 평가를 위한 라이브러리 설치\n",
    "from sklearn.metrics import confusion_matrix, classification_report # 정오분류표\n",
    "from sklearn.metrics import accuracy_score, precision_score, recall_score, f1_score, make_scorer, roc_curve, auc # 정확도, 민감도 등\n",
    "from sklearn.model_selection import cross_val_score # Roc 관련"
   ]
  },
  {
   "cell_type": "code",
   "execution_count": 3,
   "metadata": {},
   "outputs": [
    {
     "data": {
      "text/html": [
       "<div>\n",
       "<style scoped>\n",
       "    .dataframe tbody tr th:only-of-type {\n",
       "        vertical-align: middle;\n",
       "    }\n",
       "\n",
       "    .dataframe tbody tr th {\n",
       "        vertical-align: top;\n",
       "    }\n",
       "\n",
       "    .dataframe thead th {\n",
       "        text-align: right;\n",
       "    }\n",
       "</style>\n",
       "<table border=\"1\" class=\"dataframe\">\n",
       "  <thead>\n",
       "    <tr style=\"text-align: right;\">\n",
       "      <th></th>\n",
       "      <th>Sex</th>\n",
       "      <th>Embarked</th>\n",
       "      <th>ToH</th>\n",
       "      <th>Survived</th>\n",
       "      <th>Pclass</th>\n",
       "      <th>Age</th>\n",
       "      <th>Fare</th>\n",
       "      <th>Family</th>\n",
       "    </tr>\n",
       "  </thead>\n",
       "  <tbody>\n",
       "    <tr>\n",
       "      <th>0</th>\n",
       "      <td>0</td>\n",
       "      <td>0</td>\n",
       "      <td>2</td>\n",
       "      <td>0</td>\n",
       "      <td>3</td>\n",
       "      <td>22</td>\n",
       "      <td>7.2500</td>\n",
       "      <td>0</td>\n",
       "    </tr>\n",
       "    <tr>\n",
       "      <th>1</th>\n",
       "      <td>1</td>\n",
       "      <td>1</td>\n",
       "      <td>3</td>\n",
       "      <td>1</td>\n",
       "      <td>1</td>\n",
       "      <td>38</td>\n",
       "      <td>71.2833</td>\n",
       "      <td>0</td>\n",
       "    </tr>\n",
       "    <tr>\n",
       "      <th>2</th>\n",
       "      <td>1</td>\n",
       "      <td>0</td>\n",
       "      <td>1</td>\n",
       "      <td>1</td>\n",
       "      <td>3</td>\n",
       "      <td>26</td>\n",
       "      <td>7.9250</td>\n",
       "      <td>0</td>\n",
       "    </tr>\n",
       "    <tr>\n",
       "      <th>3</th>\n",
       "      <td>1</td>\n",
       "      <td>0</td>\n",
       "      <td>3</td>\n",
       "      <td>1</td>\n",
       "      <td>1</td>\n",
       "      <td>35</td>\n",
       "      <td>53.1000</td>\n",
       "      <td>0</td>\n",
       "    </tr>\n",
       "    <tr>\n",
       "      <th>4</th>\n",
       "      <td>0</td>\n",
       "      <td>0</td>\n",
       "      <td>2</td>\n",
       "      <td>0</td>\n",
       "      <td>3</td>\n",
       "      <td>35</td>\n",
       "      <td>8.0500</td>\n",
       "      <td>0</td>\n",
       "    </tr>\n",
       "    <tr>\n",
       "      <th>...</th>\n",
       "      <td>...</td>\n",
       "      <td>...</td>\n",
       "      <td>...</td>\n",
       "      <td>...</td>\n",
       "      <td>...</td>\n",
       "      <td>...</td>\n",
       "      <td>...</td>\n",
       "      <td>...</td>\n",
       "    </tr>\n",
       "    <tr>\n",
       "      <th>886</th>\n",
       "      <td>0</td>\n",
       "      <td>0</td>\n",
       "      <td>4</td>\n",
       "      <td>0</td>\n",
       "      <td>2</td>\n",
       "      <td>27</td>\n",
       "      <td>13.0000</td>\n",
       "      <td>0</td>\n",
       "    </tr>\n",
       "    <tr>\n",
       "      <th>887</th>\n",
       "      <td>1</td>\n",
       "      <td>0</td>\n",
       "      <td>1</td>\n",
       "      <td>1</td>\n",
       "      <td>1</td>\n",
       "      <td>19</td>\n",
       "      <td>30.0000</td>\n",
       "      <td>0</td>\n",
       "    </tr>\n",
       "    <tr>\n",
       "      <th>888</th>\n",
       "      <td>1</td>\n",
       "      <td>0</td>\n",
       "      <td>1</td>\n",
       "      <td>0</td>\n",
       "      <td>3</td>\n",
       "      <td>21</td>\n",
       "      <td>23.4500</td>\n",
       "      <td>1</td>\n",
       "    </tr>\n",
       "    <tr>\n",
       "      <th>889</th>\n",
       "      <td>0</td>\n",
       "      <td>1</td>\n",
       "      <td>2</td>\n",
       "      <td>1</td>\n",
       "      <td>1</td>\n",
       "      <td>26</td>\n",
       "      <td>30.0000</td>\n",
       "      <td>0</td>\n",
       "    </tr>\n",
       "    <tr>\n",
       "      <th>890</th>\n",
       "      <td>0</td>\n",
       "      <td>2</td>\n",
       "      <td>2</td>\n",
       "      <td>0</td>\n",
       "      <td>3</td>\n",
       "      <td>32</td>\n",
       "      <td>7.7500</td>\n",
       "      <td>0</td>\n",
       "    </tr>\n",
       "  </tbody>\n",
       "</table>\n",
       "<p>891 rows × 8 columns</p>\n",
       "</div>"
      ],
      "text/plain": [
       "     Sex  Embarked  ToH  Survived  Pclass  Age     Fare  Family\n",
       "0      0         0    2         0       3   22   7.2500       0\n",
       "1      1         1    3         1       1   38  71.2833       0\n",
       "2      1         0    1         1       3   26   7.9250       0\n",
       "3      1         0    3         1       1   35  53.1000       0\n",
       "4      0         0    2         0       3   35   8.0500       0\n",
       "..   ...       ...  ...       ...     ...  ...      ...     ...\n",
       "886    0         0    4         0       2   27  13.0000       0\n",
       "887    1         0    1         1       1   19  30.0000       0\n",
       "888    1         0    1         0       3   21  23.4500       1\n",
       "889    0         1    2         1       1   26  30.0000       0\n",
       "890    0         2    2         0       3   32   7.7500       0\n",
       "\n",
       "[891 rows x 8 columns]"
      ]
     },
     "execution_count": 3,
     "metadata": {},
     "output_type": "execute_result"
    }
   ],
   "source": [
    "# 파일 불러오기\n",
    "data = pd.read_csv(\"titanic_df.csv\")\n",
    "data = data.drop(labels = \"Unnamed: 0\", axis = 1)\n",
    "data"
   ]
  },
  {
   "cell_type": "markdown",
   "metadata": {},
   "source": [
    "## 데이터 분할"
   ]
  },
  {
   "cell_type": "code",
   "execution_count": 4,
   "metadata": {},
   "outputs": [],
   "source": [
    "# X, Y로 변수를 나누기(독립괴 종속 변수)\n",
    "X = data[['Sex', 'Embarked', 'ToH', 'Pclass', 'Age', 'Fare', 'Family']]\n",
    "Y = data['Survived']\n",
    "\n",
    "# 훈련과 테스트로 변수 다시 한번더 나누기\n",
    "X_train, X_test, Y_train, Y_test = train_test_split(X, Y, test_size = 0.3)"
   ]
  },
  {
   "cell_type": "markdown",
   "metadata": {},
   "source": [
    "## 모델링 및 모델 평가\n",
    "\n",
    "1. 모델 만들기\n",
    "2. 테스트 데이터로 예측\n",
    "3. 모델 평가\n",
    "4. 피드백 및 수정\n",
    "5. 모델 평가\n",
    "\n",
    "### 모델링\n",
    "\n",
    "파라미터 설명\n",
    "- min_samples_split\n",
    "  > - 노드를 분할하기 위한 최소 샘플 데이터 개수 \n",
    "  > - 디폴트 값 : 2\n",
    "\n",
    "- min_samples_leaf\n",
    "  > - 리프 노드가 되기 위한 최소 샘플 데이터 개수\n",
    "\n",
    "- max_features\n",
    "  > - 최적의 분할을 위해 고려할 최대 피처 개수\n",
    "  > - None : 모든 피처 개수\n",
    "  > - int : 사용할 피처 개수 설정\n",
    "  > - float : 사용할 피처 개수를 퍼센트로 설정\n",
    "  > - sqrt : 루트(전체 피처 개수)를 계산하여 설정\n",
    "  > - auto : sqrt와 동일\n",
    "  > - log  : log_2(전체 피처 개수)를 계산하여 설정\n",
    "\n",
    "- max_depth\n",
    "  > - 트리의 최대 깊이\n",
    "\n",
    "- max_leaf_nodes\n",
    "  > - 리프 노드에 들어가는 샘플 데이터의 최대 개수 \n",
    "\n",
    "- random_state\n",
    "  > - 실행 시마다 결과를 고정하고 싶다면 임의의 정수로 설정\n",
    "  > - 근사 알고리즘의 초기 상태가 실행 시마다 달라질 수 있어서 초기값을 일정하게 고정시킴"
   ]
  },
  {
   "cell_type": "code",
   "execution_count": 5,
   "metadata": {},
   "outputs": [
    {
     "data": {
      "text/html": [
       "<style>#sk-container-id-1 {color: black;background-color: white;}#sk-container-id-1 pre{padding: 0;}#sk-container-id-1 div.sk-toggleable {background-color: white;}#sk-container-id-1 label.sk-toggleable__label {cursor: pointer;display: block;width: 100%;margin-bottom: 0;padding: 0.3em;box-sizing: border-box;text-align: center;}#sk-container-id-1 label.sk-toggleable__label-arrow:before {content: \"▸\";float: left;margin-right: 0.25em;color: #696969;}#sk-container-id-1 label.sk-toggleable__label-arrow:hover:before {color: black;}#sk-container-id-1 div.sk-estimator:hover label.sk-toggleable__label-arrow:before {color: black;}#sk-container-id-1 div.sk-toggleable__content {max-height: 0;max-width: 0;overflow: hidden;text-align: left;background-color: #f0f8ff;}#sk-container-id-1 div.sk-toggleable__content pre {margin: 0.2em;color: black;border-radius: 0.25em;background-color: #f0f8ff;}#sk-container-id-1 input.sk-toggleable__control:checked~div.sk-toggleable__content {max-height: 200px;max-width: 100%;overflow: auto;}#sk-container-id-1 input.sk-toggleable__control:checked~label.sk-toggleable__label-arrow:before {content: \"▾\";}#sk-container-id-1 div.sk-estimator input.sk-toggleable__control:checked~label.sk-toggleable__label {background-color: #d4ebff;}#sk-container-id-1 div.sk-label input.sk-toggleable__control:checked~label.sk-toggleable__label {background-color: #d4ebff;}#sk-container-id-1 input.sk-hidden--visually {border: 0;clip: rect(1px 1px 1px 1px);clip: rect(1px, 1px, 1px, 1px);height: 1px;margin: -1px;overflow: hidden;padding: 0;position: absolute;width: 1px;}#sk-container-id-1 div.sk-estimator {font-family: monospace;background-color: #f0f8ff;border: 1px dotted black;border-radius: 0.25em;box-sizing: border-box;margin-bottom: 0.5em;}#sk-container-id-1 div.sk-estimator:hover {background-color: #d4ebff;}#sk-container-id-1 div.sk-parallel-item::after {content: \"\";width: 100%;border-bottom: 1px solid gray;flex-grow: 1;}#sk-container-id-1 div.sk-label:hover label.sk-toggleable__label {background-color: #d4ebff;}#sk-container-id-1 div.sk-serial::before {content: \"\";position: absolute;border-left: 1px solid gray;box-sizing: border-box;top: 0;bottom: 0;left: 50%;z-index: 0;}#sk-container-id-1 div.sk-serial {display: flex;flex-direction: column;align-items: center;background-color: white;padding-right: 0.2em;padding-left: 0.2em;position: relative;}#sk-container-id-1 div.sk-item {position: relative;z-index: 1;}#sk-container-id-1 div.sk-parallel {display: flex;align-items: stretch;justify-content: center;background-color: white;position: relative;}#sk-container-id-1 div.sk-item::before, #sk-container-id-1 div.sk-parallel-item::before {content: \"\";position: absolute;border-left: 1px solid gray;box-sizing: border-box;top: 0;bottom: 0;left: 50%;z-index: -1;}#sk-container-id-1 div.sk-parallel-item {display: flex;flex-direction: column;z-index: 1;position: relative;background-color: white;}#sk-container-id-1 div.sk-parallel-item:first-child::after {align-self: flex-end;width: 50%;}#sk-container-id-1 div.sk-parallel-item:last-child::after {align-self: flex-start;width: 50%;}#sk-container-id-1 div.sk-parallel-item:only-child::after {width: 0;}#sk-container-id-1 div.sk-dashed-wrapped {border: 1px dashed gray;margin: 0 0.4em 0.5em 0.4em;box-sizing: border-box;padding-bottom: 0.4em;background-color: white;}#sk-container-id-1 div.sk-label label {font-family: monospace;font-weight: bold;display: inline-block;line-height: 1.2em;}#sk-container-id-1 div.sk-label-container {text-align: center;}#sk-container-id-1 div.sk-container {/* jupyter's `normalize.less` sets `[hidden] { display: none; }` but bootstrap.min.css set `[hidden] { display: none !important; }` so we also need the `!important` here to be able to override the default hidden behavior on the sphinx rendered scikit-learn.org. See: https://github.com/scikit-learn/scikit-learn/issues/21755 */display: inline-block !important;position: relative;}#sk-container-id-1 div.sk-text-repr-fallback {display: none;}</style><div id=\"sk-container-id-1\" class=\"sk-top-container\"><div class=\"sk-text-repr-fallback\"><pre>DecisionTreeClassifier(random_state=5)</pre><b>In a Jupyter environment, please rerun this cell to show the HTML representation or trust the notebook. <br />On GitHub, the HTML representation is unable to render, please try loading this page with nbviewer.org.</b></div><div class=\"sk-container\" hidden><div class=\"sk-item\"><div class=\"sk-estimator sk-toggleable\"><input class=\"sk-toggleable__control sk-hidden--visually\" id=\"sk-estimator-id-1\" type=\"checkbox\" checked><label for=\"sk-estimator-id-1\" class=\"sk-toggleable__label sk-toggleable__label-arrow\">DecisionTreeClassifier</label><div class=\"sk-toggleable__content\"><pre>DecisionTreeClassifier(random_state=5)</pre></div></div></div></div></div>"
      ],
      "text/plain": [
       "DecisionTreeClassifier(random_state=5)"
      ]
     },
     "execution_count": 5,
     "metadata": {},
     "output_type": "execute_result"
    }
   ],
   "source": [
    "# 모델링 #\n",
    "dtree_model = DecisionTreeClassifier(random_state = 5)\n",
    "\n",
    "# 모델 학습\n",
    "dtree_model.fit(X_train, Y_train)"
   ]
  },
  {
   "cell_type": "code",
   "execution_count": 6,
   "metadata": {},
   "outputs": [
    {
     "name": "stdout",
     "output_type": "stream",
     "text": [
      "<현 모델의 하이퍼 파라미터>\n",
      "{'ccp_alpha': 0.0, 'class_weight': None, 'criterion': 'gini', 'max_depth': None, 'max_features': None, 'max_leaf_nodes': None, 'min_impurity_decrease': 0.0, 'min_samples_leaf': 1, 'min_samples_split': 2, 'min_weight_fraction_leaf': 0.0, 'random_state': 5, 'splitter': 'best'}\n"
     ]
    }
   ],
   "source": [
    "# 현 하이퍼 파라미터\n",
    "print(\"<현 모델의 하이퍼 파라미터>\")\n",
    "print(dtree_model.get_params())"
   ]
  },
  {
   "cell_type": "markdown",
   "metadata": {},
   "source": [
    "### 모델 평가\n",
    "\n",
    "1. 테스트 데이터로 예측\n",
    "2. 모델 평가 지표들로 평가\n",
    " - 정확도(accuracy) : 전체 샘플 중 맞게 예측한 샘플 수의 비율\n",
    " - 정밀도(precision) : 양성 클래스에 속한다고 출력한 샘플 중 실제로 양성 클래스에 속하는 샘플 수의 비율\n",
    " - 재현율(recall) : 실제 양성 클래스에 속한 표본 중에 양성 클래스에 속한다고 출력한 표본의 수의 비율 (= 민감도)\n",
    " - F-score : 정밀도와 재현율의 가중조화평균 (정밀도에 주어지는 가중치인 베타가 1인 경우 => F1-score)\n",
    " - ROC 곡선 : 클래스 판별 기준값의 변화에 따른 위양성률(fall-out)과 재현율(recall)의 변화를 시각화\n",
    "   - AUC(Area Under the Curve)는 ROC curve의 면적\n",
    "\n",
    "3. 평가를 보면 학습 데이터에 대한 평가가 매우 좋음, 평가 데이터는 로지스틱에 비해 평가가 떨어지긴함\n",
    "4. 하지만 DecisionTree는 다중 분류에서도 쓰이기 때문에 이것 하나로 단순히 좋고 안좋고를 판단하기엔 무리가 있음"
   ]
  },
  {
   "cell_type": "code",
   "execution_count": 7,
   "metadata": {},
   "outputs": [],
   "source": [
    "# 테스트 데이터로 예측 #\n",
    "y_pred = dtree_model.predict(X_test)"
   ]
  },
  {
   "cell_type": "code",
   "execution_count": 8,
   "metadata": {},
   "outputs": [
    {
     "data": {
      "text/html": [
       "<div>\n",
       "<style scoped>\n",
       "    .dataframe tbody tr th:only-of-type {\n",
       "        vertical-align: middle;\n",
       "    }\n",
       "\n",
       "    .dataframe tbody tr th {\n",
       "        vertical-align: top;\n",
       "    }\n",
       "\n",
       "    .dataframe thead th {\n",
       "        text-align: right;\n",
       "    }\n",
       "</style>\n",
       "<table border=\"1\" class=\"dataframe\">\n",
       "  <thead>\n",
       "    <tr style=\"text-align: right;\">\n",
       "      <th></th>\n",
       "      <th>True_Predict</th>\n",
       "      <th>False_Predict</th>\n",
       "    </tr>\n",
       "  </thead>\n",
       "  <tbody>\n",
       "    <tr>\n",
       "      <th>Real_True</th>\n",
       "      <td>143</td>\n",
       "      <td>26</td>\n",
       "    </tr>\n",
       "    <tr>\n",
       "      <th>Real_False</th>\n",
       "      <td>24</td>\n",
       "      <td>75</td>\n",
       "    </tr>\n",
       "  </tbody>\n",
       "</table>\n",
       "</div>"
      ],
      "text/plain": [
       "            True_Predict  False_Predict\n",
       "Real_True            143             26\n",
       "Real_False            24             75"
      ]
     },
     "execution_count": 8,
     "metadata": {},
     "output_type": "execute_result"
    }
   ],
   "source": [
    "# 정오분포표 #\n",
    "ac_pd = pd.DataFrame(confusion_matrix(Y_test, y_pred), index = [\"Real_True\", \"Real_False\"], columns = [\"True_Predict\", \"False_Predict\"])\n",
    "ac_pd"
   ]
  },
  {
   "cell_type": "code",
   "execution_count": 9,
   "metadata": {},
   "outputs": [
    {
     "name": "stdout",
     "output_type": "stream",
     "text": [
      "데이터 셋 평가 비교 \n",
      "Train Set Score : 0.9807383627608347\n",
      "Test  Set Score : 0.8134328358208955\n"
     ]
    }
   ],
   "source": [
    "# 데이터 셋 평가 비교 #\n",
    "print(\"데이터 셋 평가 비교 \")\n",
    "print(\"Train Set Score : {}\".format(dtree_model.score(X_train, Y_train)))\n",
    "print(\"Test  Set Score : {}\".format(dtree_model.score(X_test, Y_test)))"
   ]
  },
  {
   "cell_type": "code",
   "execution_count": 10,
   "metadata": {},
   "outputs": [
    {
     "name": "stdout",
     "output_type": "stream",
     "text": [
      "Classification_Report\n",
      "              precision    recall  f1-score   support\n",
      "\n",
      "           0       0.86      0.85      0.85       169\n",
      "           1       0.74      0.76      0.75        99\n",
      "\n",
      "    accuracy                           0.81       268\n",
      "   macro avg       0.80      0.80      0.80       268\n",
      "weighted avg       0.81      0.81      0.81       268\n",
      "\n"
     ]
    }
   ],
   "source": [
    "# 모델 학습 성능 비교\n",
    "\n",
    "## accuracy: 정확도. 전체 학습데이터의 개수에서 각 클래스에서 자신의 클래스를 정확하게 맞춘 개수의 비율.\n",
    "## macro : 단순평균\n",
    "## weighted : 각 클래스에 속하는 표본의 갯수로 가중평균\n",
    "\n",
    "print(\"Classification_Report\")\n",
    "print(classification_report(Y_test, y_pred))"
   ]
  },
  {
   "cell_type": "code",
   "execution_count": 11,
   "metadata": {},
   "outputs": [
    {
     "name": "stdout",
     "output_type": "stream",
     "text": [
      "< Desicion Tree >\n",
      "잘못 분류된 샘플 수 : 50\n",
      "정확도(Accuracy) : 0.8134328358208955\n",
      "정밀도(Precision) : 0.7425742574257426\n",
      "재현율(Recall) : 0.7575757575757576\n",
      "F1_Score : 0.75\n"
     ]
    }
   ],
   "source": [
    "# 직접 확인 \n",
    "print(\"< Desicion Tree >\")\n",
    "print(\"잘못 분류된 샘플 수 : {}\".format((y_pred != Y_test).sum()))\n",
    "print(\"정확도(Accuracy) : {}\".format(accuracy_score(Y_test, y_pred)))\n",
    "print(\"정밀도(Precision) : {}\".format(precision_score(y_true = Y_test, y_pred = y_pred)))\n",
    "print(\"재현율(Recall) : {}\".format(recall_score(y_true = Y_test, y_pred = y_pred)))\n",
    "print(\"F1_Score : {}\".format(f1_score(y_true = Y_test, y_pred = y_pred)))"
   ]
  },
  {
   "cell_type": "code",
   "execution_count": 12,
   "metadata": {},
   "outputs": [
    {
     "data": {
      "image/png": "[encoded data removed]",
      "text/plain": [
       "<Figure size 432x288 with 1 Axes>"
      ]
     },
     "metadata": {
      "needs_background": "light"
     },
     "output_type": "display_data"
    }
   ],
   "source": [
    "# Roc 곡선을 위한 변수 생성 #\n",
    "fpr, tpr, thresholds = roc_curve(Y_test, dtree_model.predict_proba(X_test)[:, 1])\n",
    "\n",
    "# Roc 곡선 #\n",
    "plt.plot(fpr, tpr, \"--\")\n",
    "plt.plot([0, 1], [0, 1], \"k--\")\n",
    "plt.plot([fpr], [tpr], \"r-\", ms = 10)\n",
    "plt.xlabel(\"FPR\")\n",
    "plt.ylabel(\"TPR\")\n",
    "plt.title(\"Roc\")\n",
    "plt.show()"
   ]
  },
  {
   "cell_type": "markdown",
   "metadata": {},
   "source": [
    "## 그리드서치(GridSearchCV)\n",
    "\n",
    "적절한 매개변수를 찾기위해 여러가지 매개변수를 넣어보고 돌려보는 등의 작업이 이루어짐 => 모델의 최적화 작업\n",
    "\n",
    "이러한 최적화 작업을 편하게 만들어 줌\n",
    "\n",
    "1. 모델링을 위한 준비\n",
    "2. 모델링\n",
    "3. 학습\n",
    "4. 평가\n",
    "\n",
    "### 모델링을 위한 준비\n",
    "\n",
    "원래 모델 함수에 어떠한 매개변수가 있는지 파악할 필요가 있음"
   ]
  },
  {
   "cell_type": "code",
   "execution_count": 13,
   "metadata": {},
   "outputs": [],
   "source": [
    "# 돌려볼 매개변수 미리 선언\n",
    "params = {\"max_depth\" : [3, 4, 5, 6, 7]}"
   ]
  },
  {
   "cell_type": "markdown",
   "metadata": {},
   "source": [
    "### 모델링\n",
    "\n",
    "GridSearchCV 로 다시 모델링 설계"
   ]
  },
  {
   "cell_type": "code",
   "execution_count": 14,
   "metadata": {},
   "outputs": [
    {
     "data": {
      "text/html": [
       "<style>#sk-container-id-2 {color: black;background-color: white;}#sk-container-id-2 pre{padding: 0;}#sk-container-id-2 div.sk-toggleable {background-color: white;}#sk-container-id-2 label.sk-toggleable__label {cursor: pointer;display: block;width: 100%;margin-bottom: 0;padding: 0.3em;box-sizing: border-box;text-align: center;}#sk-container-id-2 label.sk-toggleable__label-arrow:before {content: \"▸\";float: left;margin-right: 0.25em;color: #696969;}#sk-container-id-2 label.sk-toggleable__label-arrow:hover:before {color: black;}#sk-container-id-2 div.sk-estimator:hover label.sk-toggleable__label-arrow:before {color: black;}#sk-container-id-2 div.sk-toggleable__content {max-height: 0;max-width: 0;overflow: hidden;text-align: left;background-color: #f0f8ff;}#sk-container-id-2 div.sk-toggleable__content pre {margin: 0.2em;color: black;border-radius: 0.25em;background-color: #f0f8ff;}#sk-container-id-2 input.sk-toggleable__control:checked~div.sk-toggleable__content {max-height: 200px;max-width: 100%;overflow: auto;}#sk-container-id-2 input.sk-toggleable__control:checked~label.sk-toggleable__label-arrow:before {content: \"▾\";}#sk-container-id-2 div.sk-estimator input.sk-toggleable__control:checked~label.sk-toggleable__label {background-color: #d4ebff;}#sk-container-id-2 div.sk-label input.sk-toggleable__control:checked~label.sk-toggleable__label {background-color: #d4ebff;}#sk-container-id-2 input.sk-hidden--visually {border: 0;clip: rect(1px 1px 1px 1px);clip: rect(1px, 1px, 1px, 1px);height: 1px;margin: -1px;overflow: hidden;padding: 0;position: absolute;width: 1px;}#sk-container-id-2 div.sk-estimator {font-family: monospace;background-color: #f0f8ff;border: 1px dotted black;border-radius: 0.25em;box-sizing: border-box;margin-bottom: 0.5em;}#sk-container-id-2 div.sk-estimator:hover {background-color: #d4ebff;}#sk-container-id-2 div.sk-parallel-item::after {content: \"\";width: 100%;border-bottom: 1px solid gray;flex-grow: 1;}#sk-container-id-2 div.sk-label:hover label.sk-toggleable__label {background-color: #d4ebff;}#sk-container-id-2 div.sk-serial::before {content: \"\";position: absolute;border-left: 1px solid gray;box-sizing: border-box;top: 0;bottom: 0;left: 50%;z-index: 0;}#sk-container-id-2 div.sk-serial {display: flex;flex-direction: column;align-items: center;background-color: white;padding-right: 0.2em;padding-left: 0.2em;position: relative;}#sk-container-id-2 div.sk-item {position: relative;z-index: 1;}#sk-container-id-2 div.sk-parallel {display: flex;align-items: stretch;justify-content: center;background-color: white;position: relative;}#sk-container-id-2 div.sk-item::before, #sk-container-id-2 div.sk-parallel-item::before {content: \"\";position: absolute;border-left: 1px solid gray;box-sizing: border-box;top: 0;bottom: 0;left: 50%;z-index: -1;}#sk-container-id-2 div.sk-parallel-item {display: flex;flex-direction: column;z-index: 1;position: relative;background-color: white;}#sk-container-id-2 div.sk-parallel-item:first-child::after {align-self: flex-end;width: 50%;}#sk-container-id-2 div.sk-parallel-item:last-child::after {align-self: flex-start;width: 50%;}#sk-container-id-2 div.sk-parallel-item:only-child::after {width: 0;}#sk-container-id-2 div.sk-dashed-wrapped {border: 1px dashed gray;margin: 0 0.4em 0.5em 0.4em;box-sizing: border-box;padding-bottom: 0.4em;background-color: white;}#sk-container-id-2 div.sk-label label {font-family: monospace;font-weight: bold;display: inline-block;line-height: 1.2em;}#sk-container-id-2 div.sk-label-container {text-align: center;}#sk-container-id-2 div.sk-container {/* jupyter's `normalize.less` sets `[hidden] { display: none; }` but bootstrap.min.css set `[hidden] { display: none !important; }` so we also need the `!important` here to be able to override the default hidden behavior on the sphinx rendered scikit-learn.org. See: https://github.com/scikit-learn/scikit-learn/issues/21755 */display: inline-block !important;position: relative;}#sk-container-id-2 div.sk-text-repr-fallback {display: none;}</style><div id=\"sk-container-id-2\" class=\"sk-top-container\"><div class=\"sk-text-repr-fallback\"><pre>GridSearchCV(cv=5, estimator=DecisionTreeClassifier(random_state=5),\n",
       "             param_grid={&#x27;max_depth&#x27;: [3, 4, 5, 6, 7]}, return_train_score=True,\n",
       "             scoring=&#x27;accuracy&#x27;)</pre><b>In a Jupyter environment, please rerun this cell to show the HTML representation or trust the notebook. <br />On GitHub, the HTML representation is unable to render, please try loading this page with nbviewer.org.</b></div><div class=\"sk-container\" hidden><div class=\"sk-item sk-dashed-wrapped\"><div class=\"sk-label-container\"><div class=\"sk-label sk-toggleable\"><input class=\"sk-toggleable__control sk-hidden--visually\" id=\"sk-estimator-id-2\" type=\"checkbox\" ><label for=\"sk-estimator-id-2\" class=\"sk-toggleable__label sk-toggleable__label-arrow\">GridSearchCV</label><div class=\"sk-toggleable__content\"><pre>GridSearchCV(cv=5, estimator=DecisionTreeClassifier(random_state=5),\n",
       "             param_grid={&#x27;max_depth&#x27;: [3, 4, 5, 6, 7]}, return_train_score=True,\n",
       "             scoring=&#x27;accuracy&#x27;)</pre></div></div></div><div class=\"sk-parallel\"><div class=\"sk-parallel-item\"><div class=\"sk-item\"><div class=\"sk-label-container\"><div class=\"sk-label sk-toggleable\"><input class=\"sk-toggleable__control sk-hidden--visually\" id=\"sk-estimator-id-3\" type=\"checkbox\" ><label for=\"sk-estimator-id-3\" class=\"sk-toggleable__label sk-toggleable__label-arrow\">estimator: DecisionTreeClassifier</label><div class=\"sk-toggleable__content\"><pre>DecisionTreeClassifier(random_state=5)</pre></div></div></div><div class=\"sk-serial\"><div class=\"sk-item\"><div class=\"sk-estimator sk-toggleable\"><input class=\"sk-toggleable__control sk-hidden--visually\" id=\"sk-estimator-id-4\" type=\"checkbox\" ><label for=\"sk-estimator-id-4\" class=\"sk-toggleable__label sk-toggleable__label-arrow\">DecisionTreeClassifier</label><div class=\"sk-toggleable__content\"><pre>DecisionTreeClassifier(random_state=5)</pre></div></div></div></div></div></div></div></div></div></div>"
      ],
      "text/plain": [
       "GridSearchCV(cv=5, estimator=DecisionTreeClassifier(random_state=5),\n",
       "             param_grid={'max_depth': [3, 4, 5, 6, 7]}, return_train_score=True,\n",
       "             scoring='accuracy')"
      ]
     },
     "execution_count": 14,
     "metadata": {},
     "output_type": "execute_result"
    }
   ],
   "source": [
    "# 그리드 서치로 모델링\n",
    "## GridSearchCV(모델명, param_grid = 미리 선언한 매개변수, scoring = \"확인할 평가지표\", cv = 교차 검증에서 몇개로 분할되는지 지정, return_train_score = True)\n",
    "grid_model = GridSearchCV(dtree_model, param_grid = params, scoring = \"accuracy\", cv = 5, return_train_score = True)\n",
    "\n",
    "# 학습\n",
    "grid_model.fit(X_train, Y_train)"
   ]
  },
  {
   "cell_type": "markdown",
   "metadata": {},
   "source": [
    "### 최적화 평가"
   ]
  },
  {
   "cell_type": "code",
   "execution_count": 15,
   "metadata": {},
   "outputs": [
    {
     "data": {
      "text/html": [
       "<div>\n",
       "<style scoped>\n",
       "    .dataframe tbody tr th:only-of-type {\n",
       "        vertical-align: middle;\n",
       "    }\n",
       "\n",
       "    .dataframe tbody tr th {\n",
       "        vertical-align: top;\n",
       "    }\n",
       "\n",
       "    .dataframe thead th {\n",
       "        text-align: right;\n",
       "    }\n",
       "</style>\n",
       "<table border=\"1\" class=\"dataframe\">\n",
       "  <thead>\n",
       "    <tr style=\"text-align: right;\">\n",
       "      <th></th>\n",
       "      <th>param_max_depth</th>\n",
       "      <th>mean_fit_time</th>\n",
       "      <th>mean_train_score</th>\n",
       "      <th>mean_test_score</th>\n",
       "      <th>rank_test_score</th>\n",
       "    </tr>\n",
       "  </thead>\n",
       "  <tbody>\n",
       "    <tr>\n",
       "      <th>0</th>\n",
       "      <td>3</td>\n",
       "      <td>0.005597</td>\n",
       "      <td>0.831459</td>\n",
       "      <td>0.792929</td>\n",
       "      <td>2</td>\n",
       "    </tr>\n",
       "    <tr>\n",
       "      <th>1</th>\n",
       "      <td>4</td>\n",
       "      <td>0.005997</td>\n",
       "      <td>0.842293</td>\n",
       "      <td>0.794542</td>\n",
       "      <td>1</td>\n",
       "    </tr>\n",
       "    <tr>\n",
       "      <th>2</th>\n",
       "      <td>5</td>\n",
       "      <td>0.006496</td>\n",
       "      <td>0.856738</td>\n",
       "      <td>0.788155</td>\n",
       "      <td>3</td>\n",
       "    </tr>\n",
       "    <tr>\n",
       "      <th>3</th>\n",
       "      <td>6</td>\n",
       "      <td>0.006805</td>\n",
       "      <td>0.883623</td>\n",
       "      <td>0.786477</td>\n",
       "      <td>4</td>\n",
       "    </tr>\n",
       "    <tr>\n",
       "      <th>4</th>\n",
       "      <td>7</td>\n",
       "      <td>0.006195</td>\n",
       "      <td>0.898469</td>\n",
       "      <td>0.781677</td>\n",
       "      <td>5</td>\n",
       "    </tr>\n",
       "  </tbody>\n",
       "</table>\n",
       "</div>"
      ],
      "text/plain": [
       "  param_max_depth  mean_fit_time  mean_train_score  mean_test_score  \\\n",
       "0               3       0.005597          0.831459         0.792929   \n",
       "1               4       0.005997          0.842293         0.794542   \n",
       "2               5       0.006496          0.856738         0.788155   \n",
       "3               6       0.006805          0.883623         0.786477   \n",
       "4               7       0.006195          0.898469         0.781677   \n",
       "\n",
       "   rank_test_score  \n",
       "0                2  \n",
       "1                1  \n",
       "2                3  \n",
       "3                4  \n",
       "4                5  "
      ]
     },
     "execution_count": 15,
     "metadata": {},
     "output_type": "execute_result"
    }
   ],
   "source": [
    "# 데이터 프레임으로 결과 확인\n",
    "grid_result_df = pd.DataFrame(grid_model.cv_results_)\n",
    "\n",
    "# 필요한 칼럼만 가져와서 보기\n",
    "grid_result_df[[\"param_max_depth\", \"mean_fit_time\", \"mean_train_score\", \"mean_test_score\", \"rank_test_score\"]]\n",
    "\n",
    "## 확인하면 아래에 정확도가 올라간 것을 확인할 수 있음"
   ]
  },
  {
   "cell_type": "markdown",
   "metadata": {},
   "source": [
    "### 그리드 서치 실습 2"
   ]
  },
  {
   "cell_type": "code",
   "execution_count": 16,
   "metadata": {},
   "outputs": [],
   "source": [
    "# 돌려볼 매개변수 미리 선언\n",
    "params = {\n",
    "  \"max_depth\" : [3, 4, 5, 6, 7],\n",
    "  \"min_samples_split\" : [8, 16, 24]\n",
    "  }"
   ]
  },
  {
   "cell_type": "code",
   "execution_count": 17,
   "metadata": {},
   "outputs": [
    {
     "data": {
      "text/html": [
       "<style>#sk-container-id-3 {color: black;background-color: white;}#sk-container-id-3 pre{padding: 0;}#sk-container-id-3 div.sk-toggleable {background-color: white;}#sk-container-id-3 label.sk-toggleable__label {cursor: pointer;display: block;width: 100%;margin-bottom: 0;padding: 0.3em;box-sizing: border-box;text-align: center;}#sk-container-id-3 label.sk-toggleable__label-arrow:before {content: \"▸\";float: left;margin-right: 0.25em;color: #696969;}#sk-container-id-3 label.sk-toggleable__label-arrow:hover:before {color: black;}#sk-container-id-3 div.sk-estimator:hover label.sk-toggleable__label-arrow:before {color: black;}#sk-container-id-3 div.sk-toggleable__content {max-height: 0;max-width: 0;overflow: hidden;text-align: left;background-color: #f0f8ff;}#sk-container-id-3 div.sk-toggleable__content pre {margin: 0.2em;color: black;border-radius: 0.25em;background-color: #f0f8ff;}#sk-container-id-3 input.sk-toggleable__control:checked~div.sk-toggleable__content {max-height: 200px;max-width: 100%;overflow: auto;}#sk-container-id-3 input.sk-toggleable__control:checked~label.sk-toggleable__label-arrow:before {content: \"▾\";}#sk-container-id-3 div.sk-estimator input.sk-toggleable__control:checked~label.sk-toggleable__label {background-color: #d4ebff;}#sk-container-id-3 div.sk-label input.sk-toggleable__control:checked~label.sk-toggleable__label {background-color: #d4ebff;}#sk-container-id-3 input.sk-hidden--visually {border: 0;clip: rect(1px 1px 1px 1px);clip: rect(1px, 1px, 1px, 1px);height: 1px;margin: -1px;overflow: hidden;padding: 0;position: absolute;width: 1px;}#sk-container-id-3 div.sk-estimator {font-family: monospace;background-color: #f0f8ff;border: 1px dotted black;border-radius: 0.25em;box-sizing: border-box;margin-bottom: 0.5em;}#sk-container-id-3 div.sk-estimator:hover {background-color: #d4ebff;}#sk-container-id-3 div.sk-parallel-item::after {content: \"\";width: 100%;border-bottom: 1px solid gray;flex-grow: 1;}#sk-container-id-3 div.sk-label:hover label.sk-toggleable__label {background-color: #d4ebff;}#sk-container-id-3 div.sk-serial::before {content: \"\";position: absolute;border-left: 1px solid gray;box-sizing: border-box;top: 0;bottom: 0;left: 50%;z-index: 0;}#sk-container-id-3 div.sk-serial {display: flex;flex-direction: column;align-items: center;background-color: white;padding-right: 0.2em;padding-left: 0.2em;position: relative;}#sk-container-id-3 div.sk-item {position: relative;z-index: 1;}#sk-container-id-3 div.sk-parallel {display: flex;align-items: stretch;justify-content: center;background-color: white;position: relative;}#sk-container-id-3 div.sk-item::before, #sk-container-id-3 div.sk-parallel-item::before {content: \"\";position: absolute;border-left: 1px solid gray;box-sizing: border-box;top: 0;bottom: 0;left: 50%;z-index: -1;}#sk-container-id-3 div.sk-parallel-item {display: flex;flex-direction: column;z-index: 1;position: relative;background-color: white;}#sk-container-id-3 div.sk-parallel-item:first-child::after {align-self: flex-end;width: 50%;}#sk-container-id-3 div.sk-parallel-item:last-child::after {align-self: flex-start;width: 50%;}#sk-container-id-3 div.sk-parallel-item:only-child::after {width: 0;}#sk-container-id-3 div.sk-dashed-wrapped {border: 1px dashed gray;margin: 0 0.4em 0.5em 0.4em;box-sizing: border-box;padding-bottom: 0.4em;background-color: white;}#sk-container-id-3 div.sk-label label {font-family: monospace;font-weight: bold;display: inline-block;line-height: 1.2em;}#sk-container-id-3 div.sk-label-container {text-align: center;}#sk-container-id-3 div.sk-container {/* jupyter's `normalize.less` sets `[hidden] { display: none; }` but bootstrap.min.css set `[hidden] { display: none !important; }` so we also need the `!important` here to be able to override the default hidden behavior on the sphinx rendered scikit-learn.org. See: https://github.com/scikit-learn/scikit-learn/issues/21755 */display: inline-block !important;position: relative;}#sk-container-id-3 div.sk-text-repr-fallback {display: none;}</style><div id=\"sk-container-id-3\" class=\"sk-top-container\"><div class=\"sk-text-repr-fallback\"><pre>GridSearchCV(cv=5, estimator=DecisionTreeClassifier(random_state=5),\n",
       "             param_grid={&#x27;max_depth&#x27;: [3, 4, 5, 6, 7],\n",
       "                         &#x27;min_samples_split&#x27;: [8, 16, 24]},\n",
       "             return_train_score=True, scoring=&#x27;accuracy&#x27;)</pre><b>In a Jupyter environment, please rerun this cell to show the HTML representation or trust the notebook. <br />On GitHub, the HTML representation is unable to render, please try loading this page with nbviewer.org.</b></div><div class=\"sk-container\" hidden><div class=\"sk-item sk-dashed-wrapped\"><div class=\"sk-label-container\"><div class=\"sk-label sk-toggleable\"><input class=\"sk-toggleable__control sk-hidden--visually\" id=\"sk-estimator-id-5\" type=\"checkbox\" ><label for=\"sk-estimator-id-5\" class=\"sk-toggleable__label sk-toggleable__label-arrow\">GridSearchCV</label><div class=\"sk-toggleable__content\"><pre>GridSearchCV(cv=5, estimator=DecisionTreeClassifier(random_state=5),\n",
       "             param_grid={&#x27;max_depth&#x27;: [3, 4, 5, 6, 7],\n",
       "                         &#x27;min_samples_split&#x27;: [8, 16, 24]},\n",
       "             return_train_score=True, scoring=&#x27;accuracy&#x27;)</pre></div></div></div><div class=\"sk-parallel\"><div class=\"sk-parallel-item\"><div class=\"sk-item\"><div class=\"sk-label-container\"><div class=\"sk-label sk-toggleable\"><input class=\"sk-toggleable__control sk-hidden--visually\" id=\"sk-estimator-id-6\" type=\"checkbox\" ><label for=\"sk-estimator-id-6\" class=\"sk-toggleable__label sk-toggleable__label-arrow\">estimator: DecisionTreeClassifier</label><div class=\"sk-toggleable__content\"><pre>DecisionTreeClassifier(random_state=5)</pre></div></div></div><div class=\"sk-serial\"><div class=\"sk-item\"><div class=\"sk-estimator sk-toggleable\"><input class=\"sk-toggleable__control sk-hidden--visually\" id=\"sk-estimator-id-7\" type=\"checkbox\" ><label for=\"sk-estimator-id-7\" class=\"sk-toggleable__label sk-toggleable__label-arrow\">DecisionTreeClassifier</label><div class=\"sk-toggleable__content\"><pre>DecisionTreeClassifier(random_state=5)</pre></div></div></div></div></div></div></div></div></div></div>"
      ],
      "text/plain": [
       "GridSearchCV(cv=5, estimator=DecisionTreeClassifier(random_state=5),\n",
       "             param_grid={'max_depth': [3, 4, 5, 6, 7],\n",
       "                         'min_samples_split': [8, 16, 24]},\n",
       "             return_train_score=True, scoring='accuracy')"
      ]
     },
     "execution_count": 17,
     "metadata": {},
     "output_type": "execute_result"
    }
   ],
   "source": [
    "# 그리드 서치로 모델링\n",
    "grid_cv = GridSearchCV(dtree_model, param_grid = params, scoring = \"accuracy\", cv = 5, return_train_score = True)\n",
    "\n",
    "# 적합(=학습)\n",
    "grid_cv.fit(X_train, Y_train)"
   ]
  },
  {
   "cell_type": "code",
   "execution_count": 18,
   "metadata": {},
   "outputs": [
    {
     "data": {
      "text/html": [
       "<div>\n",
       "<style scoped>\n",
       "    .dataframe tbody tr th:only-of-type {\n",
       "        vertical-align: middle;\n",
       "    }\n",
       "\n",
       "    .dataframe tbody tr th {\n",
       "        vertical-align: top;\n",
       "    }\n",
       "\n",
       "    .dataframe thead th {\n",
       "        text-align: right;\n",
       "    }\n",
       "</style>\n",
       "<table border=\"1\" class=\"dataframe\">\n",
       "  <thead>\n",
       "    <tr style=\"text-align: right;\">\n",
       "      <th></th>\n",
       "      <th>param_max_depth</th>\n",
       "      <th>param_min_samples_split</th>\n",
       "      <th>mean_fit_time</th>\n",
       "      <th>mean_train_score</th>\n",
       "      <th>mean_test_score</th>\n",
       "      <th>rank_test_score</th>\n",
       "    </tr>\n",
       "  </thead>\n",
       "  <tbody>\n",
       "    <tr>\n",
       "      <th>0</th>\n",
       "      <td>3</td>\n",
       "      <td>8</td>\n",
       "      <td>0.005623</td>\n",
       "      <td>0.831459</td>\n",
       "      <td>0.792929</td>\n",
       "      <td>6</td>\n",
       "    </tr>\n",
       "    <tr>\n",
       "      <th>1</th>\n",
       "      <td>3</td>\n",
       "      <td>16</td>\n",
       "      <td>0.004800</td>\n",
       "      <td>0.829852</td>\n",
       "      <td>0.792929</td>\n",
       "      <td>6</td>\n",
       "    </tr>\n",
       "    <tr>\n",
       "      <th>2</th>\n",
       "      <td>3</td>\n",
       "      <td>24</td>\n",
       "      <td>0.005998</td>\n",
       "      <td>0.829852</td>\n",
       "      <td>0.792929</td>\n",
       "      <td>6</td>\n",
       "    </tr>\n",
       "    <tr>\n",
       "      <th>3</th>\n",
       "      <td>4</td>\n",
       "      <td>8</td>\n",
       "      <td>0.007596</td>\n",
       "      <td>0.841089</td>\n",
       "      <td>0.794542</td>\n",
       "      <td>1</td>\n",
       "    </tr>\n",
       "    <tr>\n",
       "      <th>4</th>\n",
       "      <td>4</td>\n",
       "      <td>16</td>\n",
       "      <td>0.005397</td>\n",
       "      <td>0.837878</td>\n",
       "      <td>0.794542</td>\n",
       "      <td>1</td>\n",
       "    </tr>\n",
       "    <tr>\n",
       "      <th>5</th>\n",
       "      <td>4</td>\n",
       "      <td>24</td>\n",
       "      <td>0.006133</td>\n",
       "      <td>0.837477</td>\n",
       "      <td>0.794542</td>\n",
       "      <td>1</td>\n",
       "    </tr>\n",
       "    <tr>\n",
       "      <th>6</th>\n",
       "      <td>5</td>\n",
       "      <td>8</td>\n",
       "      <td>0.006687</td>\n",
       "      <td>0.850719</td>\n",
       "      <td>0.786542</td>\n",
       "      <td>13</td>\n",
       "    </tr>\n",
       "    <tr>\n",
       "      <th>7</th>\n",
       "      <td>5</td>\n",
       "      <td>16</td>\n",
       "      <td>0.005766</td>\n",
       "      <td>0.847909</td>\n",
       "      <td>0.791355</td>\n",
       "      <td>9</td>\n",
       "    </tr>\n",
       "    <tr>\n",
       "      <th>8</th>\n",
       "      <td>5</td>\n",
       "      <td>24</td>\n",
       "      <td>0.004061</td>\n",
       "      <td>0.847106</td>\n",
       "      <td>0.791355</td>\n",
       "      <td>9</td>\n",
       "    </tr>\n",
       "    <tr>\n",
       "      <th>9</th>\n",
       "      <td>6</td>\n",
       "      <td>8</td>\n",
       "      <td>0.004280</td>\n",
       "      <td>0.871584</td>\n",
       "      <td>0.788090</td>\n",
       "      <td>12</td>\n",
       "    </tr>\n",
       "    <tr>\n",
       "      <th>10</th>\n",
       "      <td>6</td>\n",
       "      <td>16</td>\n",
       "      <td>0.005026</td>\n",
       "      <td>0.864358</td>\n",
       "      <td>0.791290</td>\n",
       "      <td>11</td>\n",
       "    </tr>\n",
       "    <tr>\n",
       "      <th>11</th>\n",
       "      <td>6</td>\n",
       "      <td>24</td>\n",
       "      <td>0.004792</td>\n",
       "      <td>0.859945</td>\n",
       "      <td>0.794503</td>\n",
       "      <td>5</td>\n",
       "    </tr>\n",
       "    <tr>\n",
       "      <th>12</th>\n",
       "      <td>7</td>\n",
       "      <td>8</td>\n",
       "      <td>0.004842</td>\n",
       "      <td>0.881615</td>\n",
       "      <td>0.781665</td>\n",
       "      <td>15</td>\n",
       "    </tr>\n",
       "    <tr>\n",
       "      <th>13</th>\n",
       "      <td>7</td>\n",
       "      <td>16</td>\n",
       "      <td>0.004311</td>\n",
       "      <td>0.872382</td>\n",
       "      <td>0.786465</td>\n",
       "      <td>14</td>\n",
       "    </tr>\n",
       "    <tr>\n",
       "      <th>14</th>\n",
       "      <td>7</td>\n",
       "      <td>24</td>\n",
       "      <td>0.004132</td>\n",
       "      <td>0.864360</td>\n",
       "      <td>0.794516</td>\n",
       "      <td>4</td>\n",
       "    </tr>\n",
       "  </tbody>\n",
       "</table>\n",
       "</div>"
      ],
      "text/plain": [
       "   param_max_depth param_min_samples_split  mean_fit_time  mean_train_score  \\\n",
       "0                3                       8       0.005623          0.831459   \n",
       "1                3                      16       0.004800          0.829852   \n",
       "2                3                      24       0.005998          0.829852   \n",
       "3                4                       8       0.007596          0.841089   \n",
       "4                4                      16       0.005397          0.837878   \n",
       "5                4                      24       0.006133          0.837477   \n",
       "6                5                       8       0.006687          0.850719   \n",
       "7                5                      16       0.005766          0.847909   \n",
       "8                5                      24       0.004061          0.847106   \n",
       "9                6                       8       0.004280          0.871584   \n",
       "10               6                      16       0.005026          0.864358   \n",
       "11               6                      24       0.004792          0.859945   \n",
       "12               7                       8       0.004842          0.881615   \n",
       "13               7                      16       0.004311          0.872382   \n",
       "14               7                      24       0.004132          0.864360   \n",
       "\n",
       "    mean_test_score  rank_test_score  \n",
       "0          0.792929                6  \n",
       "1          0.792929                6  \n",
       "2          0.792929                6  \n",
       "3          0.794542                1  \n",
       "4          0.794542                1  \n",
       "5          0.794542                1  \n",
       "6          0.786542               13  \n",
       "7          0.791355                9  \n",
       "8          0.791355                9  \n",
       "9          0.788090               12  \n",
       "10         0.791290               11  \n",
       "11         0.794503                5  \n",
       "12         0.781665               15  \n",
       "13         0.786465               14  \n",
       "14         0.794516                4  "
      ]
     },
     "execution_count": 18,
     "metadata": {},
     "output_type": "execute_result"
    }
   ],
   "source": [
    "# 데이터 프레임으로 받음\n",
    "grid_result_df = pd.DataFrame(grid_cv.cv_results_)\n",
    "\n",
    "# 필요한 칼럼만 가져와서 보기\n",
    "grid_result_df[[\"param_max_depth\", \"param_min_samples_split\", \"mean_fit_time\", \"mean_train_score\", \"mean_test_score\", \"rank_test_score\"]]\n",
    "\n",
    "## 하이퍼파라미터를 여러가지 설정하여 아래와 같은 결과를 가져올 수 잇음"
   ]
  },
  {
   "cell_type": "markdown",
   "metadata": {},
   "source": [
    "### 베스트 모델 가져오기"
   ]
  },
  {
   "cell_type": "code",
   "execution_count": 19,
   "metadata": {},
   "outputs": [
    {
     "name": "stdout",
     "output_type": "stream",
     "text": [
      "Best Decision Tree Accuracy 0.8171641791044776\n"
     ]
    }
   ],
   "source": [
    "# 우선 그리드서치의 베스트 모델을 가져오기\n",
    "best_dt_model = grid_cv.best_estimator_\n",
    "best_dt_predict = best_dt_model.predict(X_test)\n",
    "best_accuracy = accuracy_score(Y_test, best_dt_predict)\n",
    "\n",
    "print(\"Best Decision Tree Accuracy\", best_accuracy)"
   ]
  },
  {
   "cell_type": "markdown",
   "metadata": {},
   "source": [
    "### 베스트 모델 평가"
   ]
  },
  {
   "cell_type": "code",
   "execution_count": 20,
   "metadata": {},
   "outputs": [
    {
     "name": "stdout",
     "output_type": "stream",
     "text": [
      "< Best Desicion Tree >\n",
      "잘못 분류된 샘플 수 : 49\n",
      "정확도(Accuracy) : 0.8171641791044776\n",
      "정밀도(Precision) : 0.8472222222222222\n",
      "재현율(Recall) : 0.6161616161616161\n",
      "F1_Score : 0.7134502923976609\n"
     ]
    }
   ],
   "source": [
    "# 직접 확인 \n",
    "print(\"< Best Desicion Tree >\")\n",
    "print(\"잘못 분류된 샘플 수 : {}\".format((best_dt_predict != Y_test).sum()))\n",
    "print(\"정확도(Accuracy) : {}\".format(accuracy_score(Y_test, best_dt_predict)))\n",
    "print(\"정밀도(Precision) : {}\".format(precision_score(y_true = Y_test, y_pred = best_dt_predict)))\n",
    "print(\"재현율(Recall) : {}\".format(recall_score(y_true = Y_test, y_pred = best_dt_predict)))\n",
    "print(\"F1_Score : {}\".format(f1_score(y_true = Y_test, y_pred = best_dt_predict)))"
   ]
  },
  {
   "cell_type": "code",
   "execution_count": 21,
   "metadata": {},
   "outputs": [
    {
     "data": {
      "image/png": "[encoded data removed]",
      "text/plain": [
       "<Figure size 432x288 with 1 Axes>"
      ]
     },
     "metadata": {
      "needs_background": "light"
     },
     "output_type": "display_data"
    }
   ],
   "source": [
    "# Roc 곡선을 위한 변수 생성 #\n",
    "fpr, tpr, thresholds = roc_curve(Y_test, best_dt_model.predict_proba(X_test)[:, 1])\n",
    "\n",
    "# Roc 곡선 #\n",
    "plt.plot(fpr, tpr, \"--\")\n",
    "plt.plot([0, 1], [0, 1], \"k--\")\n",
    "plt.plot([fpr], [tpr], \"r-\", ms = 10)\n",
    "plt.xlabel(\"FPR\")\n",
    "plt.ylabel(\"TPR\")\n",
    "plt.title(\"Roc\")\n",
    "plt.show()"
   ]
  },
  {
   "cell_type": "code",
   "execution_count": 28,
   "metadata": {},
   "outputs": [
    {
     "name": "stdout",
     "output_type": "stream",
     "text": [
      "[ Best Desicion Tree ] Roc_Auc : 0.8363458870390261 (+/- 0.014056961662658051)\n"
     ]
    }
   ],
   "source": [
    "# Roc 곡선의 Auc 값 계산 #\n",
    "auc_score = cross_val_score(estimator = best_dt_model, X = X_train, y = Y_train, cv = 5, scoring = \"roc_auc\")\n",
    "\n",
    "print(\"[ Best Desicion Tree ] Roc_Auc : {} (+/- {})\".format(auc_score.mean(), auc_score.std()))"
   ]
  },
  {
   "cell_type": "markdown",
   "metadata": {},
   "source": [
    "## 시각화\n",
    "\n",
    "### 변수의 중요도 시각화"
   ]
  },
  {
   "cell_type": "code",
   "execution_count": 22,
   "metadata": {},
   "outputs": [],
   "source": [
    "# 라이브러리 불러오기\n",
    "import seaborn as sns\n",
    "import matplotlib.pyplot as plt"
   ]
  },
  {
   "cell_type": "code",
   "execution_count": 23,
   "metadata": {},
   "outputs": [],
   "source": [
    "# 베스트 모델의 변수의 중요도 뽑아오기\n",
    "feature_importance = best_dt_model.feature_importances_\n",
    "\n",
    "# 시리즈로 정리\n",
    "feature_importance_value = pd.Series(feature_importance, index = X_train.columns)\n",
    "\n",
    "# 내림차순으로 정리\n",
    "feature_top_5 = feature_importance_value.sort_values(ascending = False)"
   ]
  },
  {
   "cell_type": "code",
   "execution_count": 24,
   "metadata": {},
   "outputs": [
    {
     "data": {
      "image/png": "[encoded data removed]",
      "text/plain": [
       "<Figure size 720x360 with 1 Axes>"
      ]
     },
     "metadata": {
      "needs_background": "light"
     },
     "output_type": "display_data"
    }
   ],
   "source": [
    "# 시각화\n",
    "plt.figure(figsize = (10,5))\n",
    "plt.title(\"Best DecisionTree Features's Importance\")\n",
    "sns.barplot(x = feature_top_5, y = feature_top_5.index)\n",
    "plt.show()"
   ]
  },
  {
   "cell_type": "markdown",
   "metadata": {},
   "source": [
    "### 트리모양 시각화\n",
    "\n",
    "- 여기서 사용하는 Graphviz를 사용하기 위해서는 사전 작업이 필요\n",
    "  > 1. <span>https://www2.graphviz.org/Packages/stable/windows/10/cmake/Release/x64/</span> 의 링크로 들어가서 설치(환경변수도 같이 설정)\n",
    "  > 2. 설치하면서 환경변수를 설정하지 못했다면 아래의 코드처럼 환경 변수 설정\n",
    "  > 3. 코드말고 직접하는 방법은 검색으로 환경변수 검색. Path에 편집 새로 만들기 \"C:\\Program Files\\Graphviz 2.44.1\\bin\"를 추가\n",
    "  > 4. pip 로 설치 후 다시 라이브러리 불러오기\n",
    "\n",
    "\n",
    "- 참고 문서 : <span>https://scikit-learn.org/stable/modules/generated/sklearn.tree.export_graphviz.html?highlight=export_graphviz</span>\n",
    "\n",
    "\n",
    "- 파라미터\n",
    "  > - out_file : 파일 이름\n",
    "  > - class_names : 정답데이터 넣어주기\n",
    "  > - feature_names : 컬럼명 넣거주기\n",
    "  > - filled : True로 색깔을 넣어줌\n",
    "  > - rotate : True일 경우, 트리가 옆으로 뻗음\n",
    "\n",
    "\n",
    "- 가끔 환경변수를 설정해도 코드가 안돌아가는 경우도 존재\n",
    "  > 이럴 경우는 VSCode에서 확장자를 설치하여 저장한 dot 파일을 Preview 형태로 볼 수 있음"
   ]
  },
  {
   "cell_type": "code",
   "execution_count": 25,
   "metadata": {},
   "outputs": [],
   "source": [
    "import os\n",
    "\n",
    "os.environ[\"PATH\"] += os.pathsep + \"C:/Program Files/Graphviz pip install graphviz 2.44.1/bin\""
   ]
  },
  {
   "cell_type": "code",
   "execution_count": 26,
   "metadata": {},
   "outputs": [
    {
     "name": "stdout",
     "output_type": "stream",
     "text": [
      "Requirement already satisfied: graphviz in c:\\users\\82108\\appdata\\local\\programs\\python\\python310\\lib\\site-packages (0.20)Note: you may need to restart the kernel to use updated packages.\n"
     ]
    },
    {
     "name": "stderr",
     "output_type": "stream",
     "text": [
      "WARNING: You are using pip version 21.2.4; however, version 22.2 is available.\n",
      "You should consider upgrading via the 'c:\\Users\\82108\\AppData\\Local\\Programs\\Python\\Python310\\python.exe -m pip install --upgrade pip' command.\n"
     ]
    },
    {
     "name": "stdout",
     "output_type": "stream",
     "text": [
      "\n"
     ]
    }
   ],
   "source": [
    "%pip install graphviz"
   ]
  },
  {
   "cell_type": "code",
   "execution_count": 27,
   "metadata": {},
   "outputs": [
    {
     "ename": "NameError",
     "evalue": "name 'best_dt' is not defined",
     "output_type": "error",
     "traceback": [
      "\u001b[1;31m---------------------------------------------------------------------------\u001b[0m",
      "\u001b[1;31mNameError\u001b[0m                                 Traceback (most recent call last)",
      "\u001b[1;32mc:\\Users\\82108\\Desktop\\Study\\ML_by_ksclown\\[ML] Decision Tree.ipynb 셀 38\u001b[0m in \u001b[0;36m<cell line: 5>\u001b[1;34m()\u001b[0m\n\u001b[0;32m      <a href='vscode-notebook-cell:/c%3A/Users/82108/Desktop/Study/ML_by_ksclown/%5BML%5D%20Decision%20Tree.ipynb#ch0000037?line=1'>2</a>\u001b[0m \u001b[39mfrom\u001b[39;00m \u001b[39msklearn\u001b[39;00m\u001b[39m.\u001b[39;00m\u001b[39mtree\u001b[39;00m \u001b[39mimport\u001b[39;00m export_graphviz\n\u001b[0;32m      <a href='vscode-notebook-cell:/c%3A/Users/82108/Desktop/Study/ML_by_ksclown/%5BML%5D%20Decision%20Tree.ipynb#ch0000037?line=3'>4</a>\u001b[0m \u001b[39m# out_file로 지정된 tree.dot 파일 생성\u001b[39;00m\n\u001b[1;32m----> <a href='vscode-notebook-cell:/c%3A/Users/82108/Desktop/Study/ML_by_ksclown/%5BML%5D%20Decision%20Tree.ipynb#ch0000037?line=4'>5</a>\u001b[0m export_graphviz(best_dt, out_file \u001b[39m=\u001b[39m \u001b[39m\"\u001b[39m\u001b[39mtree.dot\u001b[39m\u001b[39m\"\u001b[39m)\n",
      "\u001b[1;31mNameError\u001b[0m: name 'best_dt' is not defined"
     ]
    }
   ],
   "source": [
    "import graphviz\n",
    "from sklearn.tree import export_graphviz\n",
    "\n",
    "# out_file로 지정된 tree.dot 파일 생성\n",
    "export_graphviz(best_dt, out_file = \"tree.dot\")"
   ]
  },
  {
   "cell_type": "code",
   "execution_count": null,
   "metadata": {},
   "outputs": [],
   "source": [
    "# 이 코드가 안먹힐 경우 위에 안 먹힐 경우 대처방안 참고\n",
    "with open(\"tree.dot\") as f :\n",
    "    dot_graph = f.read()\n",
    "\n",
    "graphviz.Source(dot_graph)"
   ]
  }
 ],
 "metadata": {
  "kernelspec": {
   "display_name": "Python 3.10.1 64-bit",
   "language": "python",
   "name": "python3"
  },
  "language_info": {
   "codemirror_mode": {
    "name": "ipython",
    "version": 3
   },
   "file_extension": ".py",
   "mimetype": "text/x-python",
   "name": "python",
   "nbconvert_exporter": "python",
   "pygments_lexer": "ipython3",
   "version": "3.10.1"
  },
  "orig_nbformat": 4,
  "vscode": {
   "interpreter": {
    "hash": "c5c2c3c852cea3612ae75d7177c7db88d742ce4c76218675a91b833287f5ecf2"
   }
  }
 },
 "nbformat": 4,
 "nbformat_minor": 2
}
