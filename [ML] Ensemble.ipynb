{
 "cells": [
  {
   "cell_type": "markdown",
   "metadata": {},
   "source": [
    "<span style=\"color:grey\"> By Seongchan Kang </span>\n",
    "\n",
    "<span style=\"color:grey\"> Version : Python 3.10.1 in Window </span>\n",
    "\n",
    "- 출처 1 : (교재) 머신러닝 교과서 with 파이썬, 사이킷런, 텐서플로 \n",
    "- 출처 2 : (교재) 비즈니스 애널리틱스를 위한 데이터 마이닝 R\n",
    "- 출처 3 : (URL) <span> https://hyemin-kim.github.io/2020/08/04/S-Python-sklearn4/#4-%EC%95%99%EC%83%81%EB%B8%94-ensemble-%EC%95%8C%EA%B3%A0%EB%A6%AC%EC%A6%98 </span>\n",
    "\n",
    "# 앙상블(Ensemble) 학습이란\n",
    "\n",
    "여러 분류기를 하나의 분류기로 연결하여 개별 분류기보다 더 좋은 성능을 만드는 것을 목표로 하는 학습\n",
    "\n",
    "결국 더 훌륭한 모델을 만들기 위한 방법\n",
    "\n",
    "앙상블의 방법을 여러가지 존재, 아래에서 계속 소개\n"
   ]
  },
  {
   "cell_type": "code",
   "execution_count": 1,
   "metadata": {},
   "outputs": [],
   "source": [
    "# 공통적으로 필요한 라이브러리\n",
    "import pandas as pd\n",
    "import numpy as np\n",
    "\n",
    "from sklearn.model_selection import train_test_split\n",
    "from sklearn.metrics import accuracy_score"
   ]
  },
  {
   "cell_type": "code",
   "execution_count": 2,
   "metadata": {},
   "outputs": [
    {
     "data": {
      "text/html": [
       "<div>\n",
       "<style scoped>\n",
       "    .dataframe tbody tr th:only-of-type {\n",
       "        vertical-align: middle;\n",
       "    }\n",
       "\n",
       "    .dataframe tbody tr th {\n",
       "        vertical-align: top;\n",
       "    }\n",
       "\n",
       "    .dataframe thead th {\n",
       "        text-align: right;\n",
       "    }\n",
       "</style>\n",
       "<table border=\"1\" class=\"dataframe\">\n",
       "  <thead>\n",
       "    <tr style=\"text-align: right;\">\n",
       "      <th></th>\n",
       "      <th>Sex</th>\n",
       "      <th>Embarked</th>\n",
       "      <th>ToH</th>\n",
       "      <th>Survived</th>\n",
       "      <th>Pclass</th>\n",
       "      <th>Age</th>\n",
       "      <th>Fare</th>\n",
       "      <th>Family</th>\n",
       "    </tr>\n",
       "  </thead>\n",
       "  <tbody>\n",
       "    <tr>\n",
       "      <th>0</th>\n",
       "      <td>0</td>\n",
       "      <td>0</td>\n",
       "      <td>2</td>\n",
       "      <td>0</td>\n",
       "      <td>3</td>\n",
       "      <td>22</td>\n",
       "      <td>7.2500</td>\n",
       "      <td>0</td>\n",
       "    </tr>\n",
       "    <tr>\n",
       "      <th>1</th>\n",
       "      <td>1</td>\n",
       "      <td>1</td>\n",
       "      <td>3</td>\n",
       "      <td>1</td>\n",
       "      <td>1</td>\n",
       "      <td>38</td>\n",
       "      <td>71.2833</td>\n",
       "      <td>0</td>\n",
       "    </tr>\n",
       "    <tr>\n",
       "      <th>2</th>\n",
       "      <td>1</td>\n",
       "      <td>0</td>\n",
       "      <td>1</td>\n",
       "      <td>1</td>\n",
       "      <td>3</td>\n",
       "      <td>26</td>\n",
       "      <td>7.9250</td>\n",
       "      <td>0</td>\n",
       "    </tr>\n",
       "    <tr>\n",
       "      <th>3</th>\n",
       "      <td>1</td>\n",
       "      <td>0</td>\n",
       "      <td>3</td>\n",
       "      <td>1</td>\n",
       "      <td>1</td>\n",
       "      <td>35</td>\n",
       "      <td>53.1000</td>\n",
       "      <td>0</td>\n",
       "    </tr>\n",
       "    <tr>\n",
       "      <th>4</th>\n",
       "      <td>0</td>\n",
       "      <td>0</td>\n",
       "      <td>2</td>\n",
       "      <td>0</td>\n",
       "      <td>3</td>\n",
       "      <td>35</td>\n",
       "      <td>8.0500</td>\n",
       "      <td>0</td>\n",
       "    </tr>\n",
       "    <tr>\n",
       "      <th>...</th>\n",
       "      <td>...</td>\n",
       "      <td>...</td>\n",
       "      <td>...</td>\n",
       "      <td>...</td>\n",
       "      <td>...</td>\n",
       "      <td>...</td>\n",
       "      <td>...</td>\n",
       "      <td>...</td>\n",
       "    </tr>\n",
       "    <tr>\n",
       "      <th>886</th>\n",
       "      <td>0</td>\n",
       "      <td>0</td>\n",
       "      <td>4</td>\n",
       "      <td>0</td>\n",
       "      <td>2</td>\n",
       "      <td>27</td>\n",
       "      <td>13.0000</td>\n",
       "      <td>0</td>\n",
       "    </tr>\n",
       "    <tr>\n",
       "      <th>887</th>\n",
       "      <td>1</td>\n",
       "      <td>0</td>\n",
       "      <td>1</td>\n",
       "      <td>1</td>\n",
       "      <td>1</td>\n",
       "      <td>19</td>\n",
       "      <td>30.0000</td>\n",
       "      <td>0</td>\n",
       "    </tr>\n",
       "    <tr>\n",
       "      <th>888</th>\n",
       "      <td>1</td>\n",
       "      <td>0</td>\n",
       "      <td>1</td>\n",
       "      <td>0</td>\n",
       "      <td>3</td>\n",
       "      <td>21</td>\n",
       "      <td>23.4500</td>\n",
       "      <td>1</td>\n",
       "    </tr>\n",
       "    <tr>\n",
       "      <th>889</th>\n",
       "      <td>0</td>\n",
       "      <td>1</td>\n",
       "      <td>2</td>\n",
       "      <td>1</td>\n",
       "      <td>1</td>\n",
       "      <td>26</td>\n",
       "      <td>30.0000</td>\n",
       "      <td>0</td>\n",
       "    </tr>\n",
       "    <tr>\n",
       "      <th>890</th>\n",
       "      <td>0</td>\n",
       "      <td>2</td>\n",
       "      <td>2</td>\n",
       "      <td>0</td>\n",
       "      <td>3</td>\n",
       "      <td>32</td>\n",
       "      <td>7.7500</td>\n",
       "      <td>0</td>\n",
       "    </tr>\n",
       "  </tbody>\n",
       "</table>\n",
       "<p>891 rows × 8 columns</p>\n",
       "</div>"
      ],
      "text/plain": [
       "     Sex  Embarked  ToH  Survived  Pclass  Age     Fare  Family\n",
       "0      0         0    2         0       3   22   7.2500       0\n",
       "1      1         1    3         1       1   38  71.2833       0\n",
       "2      1         0    1         1       3   26   7.9250       0\n",
       "3      1         0    3         1       1   35  53.1000       0\n",
       "4      0         0    2         0       3   35   8.0500       0\n",
       "..   ...       ...  ...       ...     ...  ...      ...     ...\n",
       "886    0         0    4         0       2   27  13.0000       0\n",
       "887    1         0    1         1       1   19  30.0000       0\n",
       "888    1         0    1         0       3   21  23.4500       1\n",
       "889    0         1    2         1       1   26  30.0000       0\n",
       "890    0         2    2         0       3   32   7.7500       0\n",
       "\n",
       "[891 rows x 8 columns]"
      ]
     },
     "execution_count": 2,
     "metadata": {},
     "output_type": "execute_result"
    }
   ],
   "source": [
    "# 파일 불러오기\n",
    "data = pd.read_csv(\"titanic_df.csv\")\n",
    "data = data.drop(labels = \"Unnamed: 0\", axis = 1)\n",
    "data"
   ]
  },
  {
   "cell_type": "code",
   "execution_count": 3,
   "metadata": {},
   "outputs": [],
   "source": [
    "# X, Y로 변수를 나누기(독립괴 종속 변수)\n",
    "X = data[['Sex', 'Embarked', 'ToH', 'Pclass', 'Age', 'Fare', 'Family']]\n",
    "Y = data['Survived']\n",
    "\n",
    "# 훈련과 테스트로 변수 다시 한번더 나누기\n",
    "X_train, X_test, Y_train, Y_test = train_test_split(X, Y, test_size = 0.3)"
   ]
  },
  {
   "cell_type": "markdown",
   "metadata": {},
   "source": [
    "## 투표(Voting)\n",
    "\n",
    "- 투표를 통해 최종 결과를 결정하는 방식\n",
    "- 동일한 훈련 세트\n",
    "- 여러가지 알고리즘을 사용\n",
    "- 샘플을 뽑을 때 중복은 없음\n",
    "- 싱글 모델은 튜플 형태로 정의\n",
    "- 우선적으로 여러 모델을 쓰기 때문 여러 모델을 모델링하는 과정이 필요\n",
    "\n",
    "### 투표(회귀) 실습"
   ]
  },
  {
   "cell_type": "code",
   "execution_count": 4,
   "metadata": {},
   "outputs": [],
   "source": [
    "# 라이브러리 불러오기\n",
    "from sklearn.linear_model import LinearRegression\n",
    "from sklearn.linear_model import Ridge\n",
    "from sklearn.linear_model import Lasso\n",
    "from sklearn.linear_model import ElasticNet\n",
    "from sklearn.preprocessing import StandardScaler, MinMaxScaler, RobustScaler\n",
    "from sklearn.pipeline import make_pipeline\n",
    "from sklearn.preprocessing import PolynomialFeatures\n",
    "\n",
    "from sklearn.ensemble import VotingRegressor"
   ]
  },
  {
   "cell_type": "code",
   "execution_count": 5,
   "metadata": {},
   "outputs": [
    {
     "name": "stdout",
     "output_type": "stream",
     "text": [
      "모델 < LinearRegression >\n",
      "Train Set Score1 : 0.43237295263658804\n",
      "Test  Set Score1 : 0.3955905643323824\n",
      "\n",
      "모델 < Ridge >\n",
      "Train Set Score1 : 0.43235438832466333\n",
      "Test  Set Score1 : 0.3962116091921126\n",
      "\n",
      "모델 < Lasso >\n",
      "Train Set Score1 : 0.42657672613646636\n",
      "Test  Set Score1 : 0.3919094273696194\n",
      "\n",
      "모델 < Elasticnet >\n",
      "Train Set Score1 : 0.09862019094502661\n",
      "Test  Set Score1 : 0.08810424342016188\n",
      "\n",
      "모델 < Standard Scaling >\n",
      "Train Set Score1 : 0.25354549284009287\n",
      "Test  Set Score1 : 0.2260653048152066\n",
      "\n",
      "모델 < Polynomial Features >\n",
      "Train Set Score1 : 0.25354549284009287\n",
      "Test  Set Score1 : 0.2260653048152066\n"
     ]
    }
   ],
   "source": [
    "# LinearRegression #\n",
    "linear_reg = LinearRegression(n_jobs=-1)\n",
    "linear_reg.fit(X_train, Y_train)\n",
    "\n",
    "print(\"모델 < LinearRegression >\")\n",
    "print(\"Train Set Score1 : {}\".format(linear_reg.score(X_train, Y_train)))\n",
    "print(\"Test  Set Score1 : {}\".format(linear_reg.score(X_test, Y_test)))\n",
    "\n",
    "\n",
    "# Ridge #\n",
    "ridge = Ridge(alpha=1)\n",
    "ridge.fit(X_train, Y_train)\n",
    "\n",
    "print(\"\\n모델 < Ridge >\")\n",
    "print(\"Train Set Score1 : {}\".format(ridge.score(X_train, Y_train)))\n",
    "print(\"Test  Set Score1 : {}\".format(ridge.score(X_test, Y_test)))\n",
    "\n",
    "\n",
    "# Lasso #\n",
    "lasso = Lasso(alpha=0.01)\n",
    "lasso.fit(X_train, Y_train)\n",
    "\n",
    "print(\"\\n모델 < Lasso >\")\n",
    "print(\"Train Set Score1 : {}\".format(lasso.score(X_train, Y_train)))\n",
    "print(\"Test  Set Score1 : {}\".format(lasso.score(X_test, Y_test)))\n",
    "\n",
    "\n",
    "# Elasticnet #\n",
    "elasticnet = ElasticNet(alpha=0.5, l1_ratio=0.2)\n",
    "elasticnet.fit(X_train, Y_train)\n",
    "\n",
    "print(\"\\n모델 < Elasticnet >\")\n",
    "print(\"Train Set Score1 : {}\".format(elasticnet.score(X_train, Y_train)))\n",
    "print(\"Test  Set Score1 : {}\".format(elasticnet.score(X_test, Y_test)))\n",
    "\n",
    "\n",
    "# With Standard Scaling #\n",
    "standard_elasticnet = make_pipeline(\n",
    "    StandardScaler(),\n",
    "    ElasticNet(alpha=0.5, l1_ratio=0.2)\n",
    ")\n",
    "\n",
    "standard_elasticnet.fit(X_train, Y_train).predict(X_test)\n",
    "\n",
    "print(\"\\n모델 < Standard Scaling >\")\n",
    "print(\"Train Set Score1 : {}\".format(standard_elasticnet.score(X_train, Y_train)))\n",
    "print(\"Test  Set Score1 : {}\".format(standard_elasticnet.score(X_test, Y_test)))\n",
    "\n",
    "\n",
    "# 2-Degree Polynomial Features + Standard Scaling #\n",
    "poly_elasticnet = make_pipeline(\n",
    "    PolynomialFeatures(degree=2, include_bias=False),\n",
    "    StandardScaler(),\n",
    "    ElasticNet(alpha=0.5, l1_ratio=0.2)\n",
    ")\n",
    "\n",
    "poly_elasticnet.fit(X_train, Y_train).predict(X_test)\n",
    "\n",
    "print(\"\\n모델 < Polynomial Features >\")\n",
    "print(\"Train Set Score1 : {}\".format(standard_elasticnet.score(X_train, Y_train)))\n",
    "print(\"Test  Set Score1 : {}\".format(standard_elasticnet.score(X_test, Y_test)))"
   ]
  },
  {
   "cell_type": "code",
   "execution_count": 6,
   "metadata": {},
   "outputs": [],
   "source": [
    "# 보팅에 참여한 single models 지정\n",
    "single_models = [\n",
    "    ('linear_reg', linear_reg),\n",
    "    ('ridge', ridge),\n",
    "    ('lasso', lasso),\n",
    "    ('elasticnet', elasticnet),\n",
    "    ('standard_elasticnet', standard_elasticnet),\n",
    "    ('poly_elasticnet', poly_elasticnet)\n",
    "]"
   ]
  },
  {
   "cell_type": "code",
   "execution_count": 7,
   "metadata": {},
   "outputs": [
    {
     "data": {
      "text/html": [
       "<style>#sk-container-id-1 {color: black;background-color: white;}#sk-container-id-1 pre{padding: 0;}#sk-container-id-1 div.sk-toggleable {background-color: white;}#sk-container-id-1 label.sk-toggleable__label {cursor: pointer;display: block;width: 100%;margin-bottom: 0;padding: 0.3em;box-sizing: border-box;text-align: center;}#sk-container-id-1 label.sk-toggleable__label-arrow:before {content: \"▸\";float: left;margin-right: 0.25em;color: #696969;}#sk-container-id-1 label.sk-toggleable__label-arrow:hover:before {color: black;}#sk-container-id-1 div.sk-estimator:hover label.sk-toggleable__label-arrow:before {color: black;}#sk-container-id-1 div.sk-toggleable__content {max-height: 0;max-width: 0;overflow: hidden;text-align: left;background-color: #f0f8ff;}#sk-container-id-1 div.sk-toggleable__content pre {margin: 0.2em;color: black;border-radius: 0.25em;background-color: #f0f8ff;}#sk-container-id-1 input.sk-toggleable__control:checked~div.sk-toggleable__content {max-height: 200px;max-width: 100%;overflow: auto;}#sk-container-id-1 input.sk-toggleable__control:checked~label.sk-toggleable__label-arrow:before {content: \"▾\";}#sk-container-id-1 div.sk-estimator input.sk-toggleable__control:checked~label.sk-toggleable__label {background-color: #d4ebff;}#sk-container-id-1 div.sk-label input.sk-toggleable__control:checked~label.sk-toggleable__label {background-color: #d4ebff;}#sk-container-id-1 input.sk-hidden--visually {border: 0;clip: rect(1px 1px 1px 1px);clip: rect(1px, 1px, 1px, 1px);height: 1px;margin: -1px;overflow: hidden;padding: 0;position: absolute;width: 1px;}#sk-container-id-1 div.sk-estimator {font-family: monospace;background-color: #f0f8ff;border: 1px dotted black;border-radius: 0.25em;box-sizing: border-box;margin-bottom: 0.5em;}#sk-container-id-1 div.sk-estimator:hover {background-color: #d4ebff;}#sk-container-id-1 div.sk-parallel-item::after {content: \"\";width: 100%;border-bottom: 1px solid gray;flex-grow: 1;}#sk-container-id-1 div.sk-label:hover label.sk-toggleable__label {background-color: #d4ebff;}#sk-container-id-1 div.sk-serial::before {content: \"\";position: absolute;border-left: 1px solid gray;box-sizing: border-box;top: 0;bottom: 0;left: 50%;z-index: 0;}#sk-container-id-1 div.sk-serial {display: flex;flex-direction: column;align-items: center;background-color: white;padding-right: 0.2em;padding-left: 0.2em;position: relative;}#sk-container-id-1 div.sk-item {position: relative;z-index: 1;}#sk-container-id-1 div.sk-parallel {display: flex;align-items: stretch;justify-content: center;background-color: white;position: relative;}#sk-container-id-1 div.sk-item::before, #sk-container-id-1 div.sk-parallel-item::before {content: \"\";position: absolute;border-left: 1px solid gray;box-sizing: border-box;top: 0;bottom: 0;left: 50%;z-index: -1;}#sk-container-id-1 div.sk-parallel-item {display: flex;flex-direction: column;z-index: 1;position: relative;background-color: white;}#sk-container-id-1 div.sk-parallel-item:first-child::after {align-self: flex-end;width: 50%;}#sk-container-id-1 div.sk-parallel-item:last-child::after {align-self: flex-start;width: 50%;}#sk-container-id-1 div.sk-parallel-item:only-child::after {width: 0;}#sk-container-id-1 div.sk-dashed-wrapped {border: 1px dashed gray;margin: 0 0.4em 0.5em 0.4em;box-sizing: border-box;padding-bottom: 0.4em;background-color: white;}#sk-container-id-1 div.sk-label label {font-family: monospace;font-weight: bold;display: inline-block;line-height: 1.2em;}#sk-container-id-1 div.sk-label-container {text-align: center;}#sk-container-id-1 div.sk-container {/* jupyter's `normalize.less` sets `[hidden] { display: none; }` but bootstrap.min.css set `[hidden] { display: none !important; }` so we also need the `!important` here to be able to override the default hidden behavior on the sphinx rendered scikit-learn.org. See: https://github.com/scikit-learn/scikit-learn/issues/21755 */display: inline-block !important;position: relative;}#sk-container-id-1 div.sk-text-repr-fallback {display: none;}</style><div id=\"sk-container-id-1\" class=\"sk-top-container\"><div class=\"sk-text-repr-fallback\"><pre>VotingRegressor(estimators=[(&#x27;linear_reg&#x27;, LinearRegression(n_jobs=-1)),\n",
       "                            (&#x27;ridge&#x27;, Ridge(alpha=1)),\n",
       "                            (&#x27;lasso&#x27;, Lasso(alpha=0.01)),\n",
       "                            (&#x27;elasticnet&#x27;, ElasticNet(alpha=0.5, l1_ratio=0.2)),\n",
       "                            (&#x27;standard_elasticnet&#x27;,\n",
       "                             Pipeline(steps=[(&#x27;standardscaler&#x27;,\n",
       "                                              StandardScaler()),\n",
       "                                             (&#x27;elasticnet&#x27;,\n",
       "                                              ElasticNet(alpha=0.5,\n",
       "                                                         l1_ratio=0.2))])),\n",
       "                            (&#x27;poly_elasticnet&#x27;,\n",
       "                             Pipeline(steps=[(&#x27;polynomialfeatures&#x27;,\n",
       "                                              PolynomialFeatures(include_bias=False)),\n",
       "                                             (&#x27;standardscaler&#x27;,\n",
       "                                              StandardScaler()),\n",
       "                                             (&#x27;elasticnet&#x27;,\n",
       "                                              ElasticNet(alpha=0.5,\n",
       "                                                         l1_ratio=0.2))]))],\n",
       "                n_jobs=-1)</pre><b>In a Jupyter environment, please rerun this cell to show the HTML representation or trust the notebook. <br />On GitHub, the HTML representation is unable to render, please try loading this page with nbviewer.org.</b></div><div class=\"sk-container\" hidden><div class=\"sk-item sk-dashed-wrapped\"><div class=\"sk-label-container\"><div class=\"sk-label sk-toggleable\"><input class=\"sk-toggleable__control sk-hidden--visually\" id=\"sk-estimator-id-1\" type=\"checkbox\" ><label for=\"sk-estimator-id-1\" class=\"sk-toggleable__label sk-toggleable__label-arrow\">VotingRegressor</label><div class=\"sk-toggleable__content\"><pre>VotingRegressor(estimators=[(&#x27;linear_reg&#x27;, LinearRegression(n_jobs=-1)),\n",
       "                            (&#x27;ridge&#x27;, Ridge(alpha=1)),\n",
       "                            (&#x27;lasso&#x27;, Lasso(alpha=0.01)),\n",
       "                            (&#x27;elasticnet&#x27;, ElasticNet(alpha=0.5, l1_ratio=0.2)),\n",
       "                            (&#x27;standard_elasticnet&#x27;,\n",
       "                             Pipeline(steps=[(&#x27;standardscaler&#x27;,\n",
       "                                              StandardScaler()),\n",
       "                                             (&#x27;elasticnet&#x27;,\n",
       "                                              ElasticNet(alpha=0.5,\n",
       "                                                         l1_ratio=0.2))])),\n",
       "                            (&#x27;poly_elasticnet&#x27;,\n",
       "                             Pipeline(steps=[(&#x27;polynomialfeatures&#x27;,\n",
       "                                              PolynomialFeatures(include_bias=False)),\n",
       "                                             (&#x27;standardscaler&#x27;,\n",
       "                                              StandardScaler()),\n",
       "                                             (&#x27;elasticnet&#x27;,\n",
       "                                              ElasticNet(alpha=0.5,\n",
       "                                                         l1_ratio=0.2))]))],\n",
       "                n_jobs=-1)</pre></div></div></div><div class=\"sk-parallel\"><div class=\"sk-parallel-item\"><div class=\"sk-item\"><div class=\"sk-label-container\"><div class=\"sk-label sk-toggleable\"><label>linear_reg</label></div></div><div class=\"sk-serial\"><div class=\"sk-item\"><div class=\"sk-estimator sk-toggleable\"><input class=\"sk-toggleable__control sk-hidden--visually\" id=\"sk-estimator-id-2\" type=\"checkbox\" ><label for=\"sk-estimator-id-2\" class=\"sk-toggleable__label sk-toggleable__label-arrow\">LinearRegression</label><div class=\"sk-toggleable__content\"><pre>LinearRegression(n_jobs=-1)</pre></div></div></div></div></div></div><div class=\"sk-parallel-item\"><div class=\"sk-item\"><div class=\"sk-label-container\"><div class=\"sk-label sk-toggleable\"><label>ridge</label></div></div><div class=\"sk-serial\"><div class=\"sk-item\"><div class=\"sk-estimator sk-toggleable\"><input class=\"sk-toggleable__control sk-hidden--visually\" id=\"sk-estimator-id-3\" type=\"checkbox\" ><label for=\"sk-estimator-id-3\" class=\"sk-toggleable__label sk-toggleable__label-arrow\">Ridge</label><div class=\"sk-toggleable__content\"><pre>Ridge(alpha=1)</pre></div></div></div></div></div></div><div class=\"sk-parallel-item\"><div class=\"sk-item\"><div class=\"sk-label-container\"><div class=\"sk-label sk-toggleable\"><label>lasso</label></div></div><div class=\"sk-serial\"><div class=\"sk-item\"><div class=\"sk-estimator sk-toggleable\"><input class=\"sk-toggleable__control sk-hidden--visually\" id=\"sk-estimator-id-4\" type=\"checkbox\" ><label for=\"sk-estimator-id-4\" class=\"sk-toggleable__label sk-toggleable__label-arrow\">Lasso</label><div class=\"sk-toggleable__content\"><pre>Lasso(alpha=0.01)</pre></div></div></div></div></div></div><div class=\"sk-parallel-item\"><div class=\"sk-item\"><div class=\"sk-label-container\"><div class=\"sk-label sk-toggleable\"><label>elasticnet</label></div></div><div class=\"sk-serial\"><div class=\"sk-item\"><div class=\"sk-estimator sk-toggleable\"><input class=\"sk-toggleable__control sk-hidden--visually\" id=\"sk-estimator-id-5\" type=\"checkbox\" ><label for=\"sk-estimator-id-5\" class=\"sk-toggleable__label sk-toggleable__label-arrow\">ElasticNet</label><div class=\"sk-toggleable__content\"><pre>ElasticNet(alpha=0.5, l1_ratio=0.2)</pre></div></div></div></div></div></div><div class=\"sk-parallel-item\"><div class=\"sk-item\"><div class=\"sk-label-container\"><div class=\"sk-label sk-toggleable\"><label>standard_elasticnet</label></div></div><div class=\"sk-serial\"><div class=\"sk-item\"><div class=\"sk-serial\"><div class=\"sk-item\"><div class=\"sk-estimator sk-toggleable\"><input class=\"sk-toggleable__control sk-hidden--visually\" id=\"sk-estimator-id-6\" type=\"checkbox\" ><label for=\"sk-estimator-id-6\" class=\"sk-toggleable__label sk-toggleable__label-arrow\">StandardScaler</label><div class=\"sk-toggleable__content\"><pre>StandardScaler()</pre></div></div></div><div class=\"sk-item\"><div class=\"sk-estimator sk-toggleable\"><input class=\"sk-toggleable__control sk-hidden--visually\" id=\"sk-estimator-id-7\" type=\"checkbox\" ><label for=\"sk-estimator-id-7\" class=\"sk-toggleable__label sk-toggleable__label-arrow\">ElasticNet</label><div class=\"sk-toggleable__content\"><pre>ElasticNet(alpha=0.5, l1_ratio=0.2)</pre></div></div></div></div></div></div></div></div><div class=\"sk-parallel-item\"><div class=\"sk-item\"><div class=\"sk-label-container\"><div class=\"sk-label sk-toggleable\"><label>poly_elasticnet</label></div></div><div class=\"sk-serial\"><div class=\"sk-item\"><div class=\"sk-serial\"><div class=\"sk-item\"><div class=\"sk-estimator sk-toggleable\"><input class=\"sk-toggleable__control sk-hidden--visually\" id=\"sk-estimator-id-8\" type=\"checkbox\" ><label for=\"sk-estimator-id-8\" class=\"sk-toggleable__label sk-toggleable__label-arrow\">PolynomialFeatures</label><div class=\"sk-toggleable__content\"><pre>PolynomialFeatures(include_bias=False)</pre></div></div></div><div class=\"sk-item\"><div class=\"sk-estimator sk-toggleable\"><input class=\"sk-toggleable__control sk-hidden--visually\" id=\"sk-estimator-id-9\" type=\"checkbox\" ><label for=\"sk-estimator-id-9\" class=\"sk-toggleable__label sk-toggleable__label-arrow\">StandardScaler</label><div class=\"sk-toggleable__content\"><pre>StandardScaler()</pre></div></div></div><div class=\"sk-item\"><div class=\"sk-estimator sk-toggleable\"><input class=\"sk-toggleable__control sk-hidden--visually\" id=\"sk-estimator-id-10\" type=\"checkbox\" ><label for=\"sk-estimator-id-10\" class=\"sk-toggleable__label sk-toggleable__label-arrow\">ElasticNet</label><div class=\"sk-toggleable__content\"><pre>ElasticNet(alpha=0.5, l1_ratio=0.2)</pre></div></div></div></div></div></div></div></div></div></div></div></div>"
      ],
      "text/plain": [
       "VotingRegressor(estimators=[('linear_reg', LinearRegression(n_jobs=-1)),\n",
       "                            ('ridge', Ridge(alpha=1)),\n",
       "                            ('lasso', Lasso(alpha=0.01)),\n",
       "                            ('elasticnet', ElasticNet(alpha=0.5, l1_ratio=0.2)),\n",
       "                            ('standard_elasticnet',\n",
       "                             Pipeline(steps=[('standardscaler',\n",
       "                                              StandardScaler()),\n",
       "                                             ('elasticnet',\n",
       "                                              ElasticNet(alpha=0.5,\n",
       "                                                         l1_ratio=0.2))])),\n",
       "                            ('poly_elasticnet',\n",
       "                             Pipeline(steps=[('polynomialfeatures',\n",
       "                                              PolynomialFeatures(include_bias=False)),\n",
       "                                             ('standardscaler',\n",
       "                                              StandardScaler()),\n",
       "                                             ('elasticnet',\n",
       "                                              ElasticNet(alpha=0.5,\n",
       "                                                         l1_ratio=0.2))]))],\n",
       "                n_jobs=-1)"
      ]
     },
     "execution_count": 7,
     "metadata": {},
     "output_type": "execute_result"
    }
   ],
   "source": [
    "# voting regressor 만들기\n",
    "voting_regressor = VotingRegressor(single_models, n_jobs=-1)\n",
    "\n",
    "# 적합 = 학습\n",
    "voting_regressor.fit(X_train, Y_train)"
   ]
  },
  {
   "cell_type": "code",
   "execution_count": 8,
   "metadata": {},
   "outputs": [
    {
     "name": "stdout",
     "output_type": "stream",
     "text": [
      "모델 < Ensemble_Voting >\n",
      "Train Set Score1 : 0.37767467820538503\n",
      "Test  Set Score1 : 0.35659586611463534\n"
     ]
    }
   ],
   "source": [
    "# 테스트 #\n",
    "print(\"모델 < Ensemble_Voting >\")\n",
    "print(\"Train Set Score1 : {}\".format(voting_regressor.score(X_train, Y_train)))\n",
    "print(\"Test  Set Score1 : {}\".format(voting_regressor.score(X_test, Y_test)))\n",
    "\n",
    "## 단일의 모델보다는 결과가 좋긴함\n",
    "## 하지만 몇몇의 단일 모델이 성능이 더 좋아보임 "
   ]
  },
  {
   "cell_type": "markdown",
   "metadata": {},
   "source": [
    "### 투표(분류) 실습\n",
    "\n",
    "- 투표에 분률 할 때는 투표 방식을 soft로 할것인지, hard로 할 것 인지도 중요\n",
    "- voting ='soft', 'hard'"
   ]
  },
  {
   "cell_type": "code",
   "execution_count": 9,
   "metadata": {},
   "outputs": [],
   "source": [
    "# 라이브러리 불러오기\n",
    "from sklearn.linear_model import LogisticRegression\n",
    "from sklearn.tree import DecisionTreeClassifier\n",
    "from sklearn.neighbors import KNeighborsClassifier\n",
    "from sklearn.ensemble import VotingClassifier"
   ]
  },
  {
   "cell_type": "code",
   "execution_count": 10,
   "metadata": {},
   "outputs": [],
   "source": [
    "# 함수 선언 #\n",
    "def min_max_normalize(lst):\n",
    "    normalized = []\n",
    "    \n",
    "    for value in lst:\n",
    "        normalized_num = (value - min(lst)) / (max(lst) - min(lst))\n",
    "        normalized.append(normalized_num)\n",
    "    \n",
    "    return normalized\n",
    "\n",
    "def z_score_normalize(lst):\n",
    "    normalized = []\n",
    "    for value in lst:\n",
    "        normalized_num = (value - np.mean(lst)) / np.std(lst)\n",
    "        normalized.append(normalized_num)\n",
    "    return normalized"
   ]
  },
  {
   "cell_type": "code",
   "execution_count": 11,
   "metadata": {},
   "outputs": [],
   "source": [
    "# 정규화\n",
    "data[\"Age\"] = min_max_normalize(data[\"Age\"])\n",
    "data[\"Fare\"] = z_score_normalize(data[\"Fare\"])\n",
    "\n",
    "# X, Y로 변수를 나누기(독립괴 종속 변수)\n",
    "X = data[['Sex', 'Embarked', 'ToH', 'Pclass', 'Age', 'Fare', 'Family']]\n",
    "Y = data['Survived']\n",
    "\n",
    "# 훈련과 테스트로 변수 다시 한번더 나누기\n",
    "X_train, X_test, Y_train, Y_test = train_test_split(X, Y, test_size = 0.3)"
   ]
  },
  {
   "cell_type": "code",
   "execution_count": 12,
   "metadata": {},
   "outputs": [
    {
     "name": "stdout",
     "output_type": "stream",
     "text": [
      "모델 < LogisticRegression >\n",
      "Train Set Score1 : 0.8234349919743178\n",
      "Test  Set Score1 : 0.835820895522388\n",
      "\n",
      "모델 < DecisionTreeClassifier >\n",
      "Train Set Score1 : 0.8298555377207063\n",
      "Test  Set Score1 : 0.8395522388059702\n",
      "\n",
      "모델 < KNeighborsClassifier >\n",
      "Train Set Score1 : 0.8459069020866774\n",
      "Test  Set Score1 : 0.7947761194029851\n"
     ]
    }
   ],
   "source": [
    "# 모델링 및 적합 #\n",
    "\n",
    "# LogisticRegression\n",
    "lr_model = LogisticRegression(random_state = 5)\n",
    "lr_model.fit(X_train, Y_train)\n",
    "\n",
    "print(\"모델 < LogisticRegression >\")\n",
    "print(\"Train Set Score1 : {}\".format(lr_model.score(X_train, Y_train)))\n",
    "print(\"Test  Set Score1 : {}\".format(lr_model.score(X_test, Y_test)))\n",
    "\n",
    "\n",
    "# DecisionTreeClassifier\n",
    "dTree = DecisionTreeClassifier(random_state = 5, max_depth = 3, min_samples_split = 8)\n",
    "dTree.fit(X_train, Y_train)\n",
    "\n",
    "print(\"\\n모델 < DecisionTreeClassifier >\")\n",
    "print(\"Train Set Score1 : {}\".format(dTree.score(X_train, Y_train)))\n",
    "print(\"Test  Set Score1 : {}\".format(dTree.score(X_test, Y_test)))\n",
    "\n",
    "\n",
    "# KNeighborsClassifier\n",
    "## 정규화를 어떻게 적용시키는게 좋을지 고민이 들어\n",
    "## 잘못 건들기보다는 정규화를 안하는 방법을 선택\n",
    "knn_model = KNeighborsClassifier(n_neighbors = 10, metric = 'euclidean')\n",
    "knn_model.fit(X_train, Y_train)\n",
    "\n",
    "print(\"\\n모델 < KNeighborsClassifier >\")\n",
    "print(\"Train Set Score1 : {}\".format(knn_model.score(X_train, Y_train)))\n",
    "print(\"Test  Set Score1 : {}\".format(knn_model.score(X_test, Y_test)))"
   ]
  },
  {
   "cell_type": "code",
   "execution_count": 13,
   "metadata": {},
   "outputs": [
    {
     "data": {
      "text/html": [
       "<style>#sk-container-id-2 {color: black;background-color: white;}#sk-container-id-2 pre{padding: 0;}#sk-container-id-2 div.sk-toggleable {background-color: white;}#sk-container-id-2 label.sk-toggleable__label {cursor: pointer;display: block;width: 100%;margin-bottom: 0;padding: 0.3em;box-sizing: border-box;text-align: center;}#sk-container-id-2 label.sk-toggleable__label-arrow:before {content: \"▸\";float: left;margin-right: 0.25em;color: #696969;}#sk-container-id-2 label.sk-toggleable__label-arrow:hover:before {color: black;}#sk-container-id-2 div.sk-estimator:hover label.sk-toggleable__label-arrow:before {color: black;}#sk-container-id-2 div.sk-toggleable__content {max-height: 0;max-width: 0;overflow: hidden;text-align: left;background-color: #f0f8ff;}#sk-container-id-2 div.sk-toggleable__content pre {margin: 0.2em;color: black;border-radius: 0.25em;background-color: #f0f8ff;}#sk-container-id-2 input.sk-toggleable__control:checked~div.sk-toggleable__content {max-height: 200px;max-width: 100%;overflow: auto;}#sk-container-id-2 input.sk-toggleable__control:checked~label.sk-toggleable__label-arrow:before {content: \"▾\";}#sk-container-id-2 div.sk-estimator input.sk-toggleable__control:checked~label.sk-toggleable__label {background-color: #d4ebff;}#sk-container-id-2 div.sk-label input.sk-toggleable__control:checked~label.sk-toggleable__label {background-color: #d4ebff;}#sk-container-id-2 input.sk-hidden--visually {border: 0;clip: rect(1px 1px 1px 1px);clip: rect(1px, 1px, 1px, 1px);height: 1px;margin: -1px;overflow: hidden;padding: 0;position: absolute;width: 1px;}#sk-container-id-2 div.sk-estimator {font-family: monospace;background-color: #f0f8ff;border: 1px dotted black;border-radius: 0.25em;box-sizing: border-box;margin-bottom: 0.5em;}#sk-container-id-2 div.sk-estimator:hover {background-color: #d4ebff;}#sk-container-id-2 div.sk-parallel-item::after {content: \"\";width: 100%;border-bottom: 1px solid gray;flex-grow: 1;}#sk-container-id-2 div.sk-label:hover label.sk-toggleable__label {background-color: #d4ebff;}#sk-container-id-2 div.sk-serial::before {content: \"\";position: absolute;border-left: 1px solid gray;box-sizing: border-box;top: 0;bottom: 0;left: 50%;z-index: 0;}#sk-container-id-2 div.sk-serial {display: flex;flex-direction: column;align-items: center;background-color: white;padding-right: 0.2em;padding-left: 0.2em;position: relative;}#sk-container-id-2 div.sk-item {position: relative;z-index: 1;}#sk-container-id-2 div.sk-parallel {display: flex;align-items: stretch;justify-content: center;background-color: white;position: relative;}#sk-container-id-2 div.sk-item::before, #sk-container-id-2 div.sk-parallel-item::before {content: \"\";position: absolute;border-left: 1px solid gray;box-sizing: border-box;top: 0;bottom: 0;left: 50%;z-index: -1;}#sk-container-id-2 div.sk-parallel-item {display: flex;flex-direction: column;z-index: 1;position: relative;background-color: white;}#sk-container-id-2 div.sk-parallel-item:first-child::after {align-self: flex-end;width: 50%;}#sk-container-id-2 div.sk-parallel-item:last-child::after {align-self: flex-start;width: 50%;}#sk-container-id-2 div.sk-parallel-item:only-child::after {width: 0;}#sk-container-id-2 div.sk-dashed-wrapped {border: 1px dashed gray;margin: 0 0.4em 0.5em 0.4em;box-sizing: border-box;padding-bottom: 0.4em;background-color: white;}#sk-container-id-2 div.sk-label label {font-family: monospace;font-weight: bold;display: inline-block;line-height: 1.2em;}#sk-container-id-2 div.sk-label-container {text-align: center;}#sk-container-id-2 div.sk-container {/* jupyter's `normalize.less` sets `[hidden] { display: none; }` but bootstrap.min.css set `[hidden] { display: none !important; }` so we also need the `!important` here to be able to override the default hidden behavior on the sphinx rendered scikit-learn.org. See: https://github.com/scikit-learn/scikit-learn/issues/21755 */display: inline-block !important;position: relative;}#sk-container-id-2 div.sk-text-repr-fallback {display: none;}</style><div id=\"sk-container-id-2\" class=\"sk-top-container\"><div class=\"sk-text-repr-fallback\"><pre>VotingClassifier(estimators=[(&#x27;Logit&#x27;, LogisticRegression(random_state=5)),\n",
       "                             (&#x27;DecisionTree&#x27;,\n",
       "                              DecisionTreeClassifier(max_depth=3,\n",
       "                                                     min_samples_split=8,\n",
       "                                                     random_state=5)),\n",
       "                             (&#x27;KNN&#x27;,\n",
       "                              KNeighborsClassifier(metric=&#x27;euclidean&#x27;,\n",
       "                                                   n_neighbors=10))],\n",
       "                 voting=&#x27;soft&#x27;)</pre><b>In a Jupyter environment, please rerun this cell to show the HTML representation or trust the notebook. <br />On GitHub, the HTML representation is unable to render, please try loading this page with nbviewer.org.</b></div><div class=\"sk-container\" hidden><div class=\"sk-item sk-dashed-wrapped\"><div class=\"sk-label-container\"><div class=\"sk-label sk-toggleable\"><input class=\"sk-toggleable__control sk-hidden--visually\" id=\"sk-estimator-id-11\" type=\"checkbox\" ><label for=\"sk-estimator-id-11\" class=\"sk-toggleable__label sk-toggleable__label-arrow\">VotingClassifier</label><div class=\"sk-toggleable__content\"><pre>VotingClassifier(estimators=[(&#x27;Logit&#x27;, LogisticRegression(random_state=5)),\n",
       "                             (&#x27;DecisionTree&#x27;,\n",
       "                              DecisionTreeClassifier(max_depth=3,\n",
       "                                                     min_samples_split=8,\n",
       "                                                     random_state=5)),\n",
       "                             (&#x27;KNN&#x27;,\n",
       "                              KNeighborsClassifier(metric=&#x27;euclidean&#x27;,\n",
       "                                                   n_neighbors=10))],\n",
       "                 voting=&#x27;soft&#x27;)</pre></div></div></div><div class=\"sk-parallel\"><div class=\"sk-parallel-item\"><div class=\"sk-item\"><div class=\"sk-label-container\"><div class=\"sk-label sk-toggleable\"><label>Logit</label></div></div><div class=\"sk-serial\"><div class=\"sk-item\"><div class=\"sk-estimator sk-toggleable\"><input class=\"sk-toggleable__control sk-hidden--visually\" id=\"sk-estimator-id-12\" type=\"checkbox\" ><label for=\"sk-estimator-id-12\" class=\"sk-toggleable__label sk-toggleable__label-arrow\">LogisticRegression</label><div class=\"sk-toggleable__content\"><pre>LogisticRegression(random_state=5)</pre></div></div></div></div></div></div><div class=\"sk-parallel-item\"><div class=\"sk-item\"><div class=\"sk-label-container\"><div class=\"sk-label sk-toggleable\"><label>DecisionTree</label></div></div><div class=\"sk-serial\"><div class=\"sk-item\"><div class=\"sk-estimator sk-toggleable\"><input class=\"sk-toggleable__control sk-hidden--visually\" id=\"sk-estimator-id-13\" type=\"checkbox\" ><label for=\"sk-estimator-id-13\" class=\"sk-toggleable__label sk-toggleable__label-arrow\">DecisionTreeClassifier</label><div class=\"sk-toggleable__content\"><pre>DecisionTreeClassifier(max_depth=3, min_samples_split=8, random_state=5)</pre></div></div></div></div></div></div><div class=\"sk-parallel-item\"><div class=\"sk-item\"><div class=\"sk-label-container\"><div class=\"sk-label sk-toggleable\"><label>KNN</label></div></div><div class=\"sk-serial\"><div class=\"sk-item\"><div class=\"sk-estimator sk-toggleable\"><input class=\"sk-toggleable__control sk-hidden--visually\" id=\"sk-estimator-id-14\" type=\"checkbox\" ><label for=\"sk-estimator-id-14\" class=\"sk-toggleable__label sk-toggleable__label-arrow\">KNeighborsClassifier</label><div class=\"sk-toggleable__content\"><pre>KNeighborsClassifier(metric=&#x27;euclidean&#x27;, n_neighbors=10)</pre></div></div></div></div></div></div></div></div></div></div>"
      ],
      "text/plain": [
       "VotingClassifier(estimators=[('Logit', LogisticRegression(random_state=5)),\n",
       "                             ('DecisionTree',\n",
       "                              DecisionTreeClassifier(max_depth=3,\n",
       "                                                     min_samples_split=8,\n",
       "                                                     random_state=5)),\n",
       "                             ('KNN',\n",
       "                              KNeighborsClassifier(metric='euclidean',\n",
       "                                                   n_neighbors=10))],\n",
       "                 voting='soft')"
      ]
     },
     "execution_count": 13,
     "metadata": {},
     "output_type": "execute_result"
    }
   ],
   "source": [
    "models = [\n",
    "    ('Logit', lr_model),\n",
    "    ('DecisionTree', dTree),\n",
    "    ('KNN', knn_model) \n",
    "]\n",
    "\n",
    "# 모델링\n",
    "vc = VotingClassifier(models, voting='soft')\n",
    "\n",
    "# 적합 = 학습\n",
    "vc.fit(X_train, Y_train)"
   ]
  },
  {
   "cell_type": "code",
   "execution_count": 19,
   "metadata": {},
   "outputs": [
    {
     "name": "stdout",
     "output_type": "stream",
     "text": [
      "모델 < VotingClassifier >\n",
      "Train Set Score1 : 0.8426966292134831\n",
      "Test  Set Score1 : 0.8134328358208955\n"
     ]
    }
   ],
   "source": [
    "# 테스트 #\n",
    "print(\"모델 < VotingClassifier >\")\n",
    "print(\"Train Set Score1 : {}\".format(vc.score(X_train, Y_train)))\n",
    "print(\"Test  Set Score1 : {}\".format(vc.score(X_test, Y_test)))\n",
    "\n",
    "## 몇몇개의 모델보다는 안정적인 모델이 됨"
   ]
  },
  {
   "cell_type": "markdown",
   "metadata": {},
   "source": [
    "## 배깅 (Bagging)\n",
    "\n",
    "- 배깅은 Bootstrap Aggregating의 줄임말\n",
    "- Bootstrap이란 여러 개의 dataset을 중복을 허용(복원 추출)하여 샘플링하여 분할하는 방식\n",
    "- Voting은 여러 알고리즘의 조합에 대한 앙상블\n",
    "- Bagging은 하나의 단일 알고리즘에 대하여 여러 개의 샘플 조합으로 앙상블\n",
    "- 대표적인 방법 : Random Forest, Bagging\n",
    "\n",
    "\n",
    "### 배깅 실습"
   ]
  },
  {
   "cell_type": "code",
   "execution_count": 16,
   "metadata": {},
   "outputs": [],
   "source": [
    "# 라이브러리 불러오기\n",
    "from sklearn.ensemble import BaggingClassifier"
   ]
  },
  {
   "cell_type": "code",
   "execution_count": 22,
   "metadata": {},
   "outputs": [],
   "source": [
    "# 이미 위에서 여러가지 모델을 돌려놓음\n",
    "# 배깅 모델링\n",
    "tree_model = DecisionTreeClassifier(random_state = 5)\n",
    "\n",
    "bagging = BaggingClassifier(\n",
    "  base_estimator = tree_model, \n",
    "  n_estimators = 500, \n",
    "  max_samples = 1.0, \n",
    "  max_features = 1.0, \n",
    "  bootstrap = True, \n",
    "  bootstrap_features = False,\n",
    "  n_jobs = 1,\n",
    "  random_state = 5  \n",
    ")\n",
    "\n",
    "clf_labels = [\"Decision Tree\", \"Bagging\"]\n",
    "\n",
    "all_clf = [dTree, bagging]"
   ]
  },
  {
   "cell_type": "code",
   "execution_count": 29,
   "metadata": {},
   "outputs": [
    {
     "name": "stdout",
     "output_type": "stream",
     "text": [
      "[Decision Tree] Roc_Auc : 0.8705097650576373 (+/- 0.026279988664538935)\n",
      "[Bagging] Roc_Auc : 0.8704800075810715 (+/- 0.03388863062816359)\n"
     ]
    }
   ],
   "source": [
    "# 평가 #\n",
    "from sklearn.model_selection import cross_val_score\n",
    "\n",
    "for clf, label in zip(all_clf, clf_labels) :\n",
    "  scores = cross_val_score(estimator = clf, X = X_train, y = Y_train, cv = 5, scoring = \"roc_auc\")\n",
    "  print(\"[{}] Roc_Auc : {} (+/- {})\".format(label, scores.mean(), scores.std()))"
   ]
  },
  {
   "cell_type": "code",
   "execution_count": 30,
   "metadata": {},
   "outputs": [],
   "source": [
    "# 이미 위에서 여러가지 모델을 돌려놓음\n",
    "# 배깅 모델링\n",
    "lr_model = LogisticRegression(random_state = 5)\n",
    "\n",
    "bagging = BaggingClassifier(\n",
    "  base_estimator = lr_model, \n",
    "  n_estimators = 500, \n",
    "  max_samples = 1.0, \n",
    "  max_features = 1.0, \n",
    "  bootstrap = True, \n",
    "  bootstrap_features = False,\n",
    "  n_jobs = 1,\n",
    "  random_state = 5  \n",
    ")\n",
    "\n",
    "clf_labels = [\"LR\", \"Bagging\"]\n",
    "\n",
    "all_clf = [lr_model, bagging]"
   ]
  },
  {
   "cell_type": "code",
   "execution_count": 31,
   "metadata": {},
   "outputs": [
    {
     "name": "stdout",
     "output_type": "stream",
     "text": [
      "[LR] Roc_Auc : 0.8625997229720633 (+/- 0.030733463040745326)\n",
      "[Bagging] Roc_Auc : 0.8626579980303385 (+/- 0.030764284163544525)\n"
     ]
    }
   ],
   "source": [
    "for clf, label in zip(all_clf, clf_labels) :\n",
    "  scores = cross_val_score(estimator = clf, X = X_train, y = Y_train, cv = 5, scoring = \"roc_auc\")\n",
    "  print(\"[{}] Roc_Auc : {} (+/- {})\".format(label, scores.mean(), scores.std()))"
   ]
  },
  {
   "cell_type": "markdown",
   "metadata": {},
   "source": [
    "### 랜덤포레스트(Random Forest) 실습\n",
    "\n",
    "- Decision Tree 기반 Bagging 앙상블\n",
    "- 굉장히 인기있는 앙상블 모델\n",
    "- 사용성이 쉽고, 성능도 우수\n",
    "- 단일 분류 알고리즘(DT) 사용\n",
    "- 무작위로 예측변수 선택하여 모델 구축\n",
    "- 결과 결합 : 투표(분류), 평균화(예측)\n",
    "- 나무구조로 표현(X) => 변수의 중요도 제공\n",
    "- 주요 파라미터\n",
    " > - random_state : random seed 고정 값\n",
    " > - n_jobs : CPU 사용 갯수\n",
    " > - max_depth : 깊어질 수 있는 최대 깊이. 과대적합 방지용\n",
    " > - n_estimators : 암상블하는 트리의 갯수\n",
    " > - max_features : best split을 판단할 때 최대로 사용할 feature의 갯수 {‘auto’, ‘sqrt’, ‘log2’}. 과대적합 방지용\n",
    " > - min_samples_split : 트리가 분할할 때 최소 샘플의 갯수. default=2. 과대적합 방지용\n"
   ]
  },
  {
   "cell_type": "code",
   "execution_count": 33,
   "metadata": {},
   "outputs": [
    {
     "data": {
      "text/html": [
       "<style>#sk-container-id-4 {color: black;background-color: white;}#sk-container-id-4 pre{padding: 0;}#sk-container-id-4 div.sk-toggleable {background-color: white;}#sk-container-id-4 label.sk-toggleable__label {cursor: pointer;display: block;width: 100%;margin-bottom: 0;padding: 0.3em;box-sizing: border-box;text-align: center;}#sk-container-id-4 label.sk-toggleable__label-arrow:before {content: \"▸\";float: left;margin-right: 0.25em;color: #696969;}#sk-container-id-4 label.sk-toggleable__label-arrow:hover:before {color: black;}#sk-container-id-4 div.sk-estimator:hover label.sk-toggleable__label-arrow:before {color: black;}#sk-container-id-4 div.sk-toggleable__content {max-height: 0;max-width: 0;overflow: hidden;text-align: left;background-color: #f0f8ff;}#sk-container-id-4 div.sk-toggleable__content pre {margin: 0.2em;color: black;border-radius: 0.25em;background-color: #f0f8ff;}#sk-container-id-4 input.sk-toggleable__control:checked~div.sk-toggleable__content {max-height: 200px;max-width: 100%;overflow: auto;}#sk-container-id-4 input.sk-toggleable__control:checked~label.sk-toggleable__label-arrow:before {content: \"▾\";}#sk-container-id-4 div.sk-estimator input.sk-toggleable__control:checked~label.sk-toggleable__label {background-color: #d4ebff;}#sk-container-id-4 div.sk-label input.sk-toggleable__control:checked~label.sk-toggleable__label {background-color: #d4ebff;}#sk-container-id-4 input.sk-hidden--visually {border: 0;clip: rect(1px 1px 1px 1px);clip: rect(1px, 1px, 1px, 1px);height: 1px;margin: -1px;overflow: hidden;padding: 0;position: absolute;width: 1px;}#sk-container-id-4 div.sk-estimator {font-family: monospace;background-color: #f0f8ff;border: 1px dotted black;border-radius: 0.25em;box-sizing: border-box;margin-bottom: 0.5em;}#sk-container-id-4 div.sk-estimator:hover {background-color: #d4ebff;}#sk-container-id-4 div.sk-parallel-item::after {content: \"\";width: 100%;border-bottom: 1px solid gray;flex-grow: 1;}#sk-container-id-4 div.sk-label:hover label.sk-toggleable__label {background-color: #d4ebff;}#sk-container-id-4 div.sk-serial::before {content: \"\";position: absolute;border-left: 1px solid gray;box-sizing: border-box;top: 0;bottom: 0;left: 50%;z-index: 0;}#sk-container-id-4 div.sk-serial {display: flex;flex-direction: column;align-items: center;background-color: white;padding-right: 0.2em;padding-left: 0.2em;position: relative;}#sk-container-id-4 div.sk-item {position: relative;z-index: 1;}#sk-container-id-4 div.sk-parallel {display: flex;align-items: stretch;justify-content: center;background-color: white;position: relative;}#sk-container-id-4 div.sk-item::before, #sk-container-id-4 div.sk-parallel-item::before {content: \"\";position: absolute;border-left: 1px solid gray;box-sizing: border-box;top: 0;bottom: 0;left: 50%;z-index: -1;}#sk-container-id-4 div.sk-parallel-item {display: flex;flex-direction: column;z-index: 1;position: relative;background-color: white;}#sk-container-id-4 div.sk-parallel-item:first-child::after {align-self: flex-end;width: 50%;}#sk-container-id-4 div.sk-parallel-item:last-child::after {align-self: flex-start;width: 50%;}#sk-container-id-4 div.sk-parallel-item:only-child::after {width: 0;}#sk-container-id-4 div.sk-dashed-wrapped {border: 1px dashed gray;margin: 0 0.4em 0.5em 0.4em;box-sizing: border-box;padding-bottom: 0.4em;background-color: white;}#sk-container-id-4 div.sk-label label {font-family: monospace;font-weight: bold;display: inline-block;line-height: 1.2em;}#sk-container-id-4 div.sk-label-container {text-align: center;}#sk-container-id-4 div.sk-container {/* jupyter's `normalize.less` sets `[hidden] { display: none; }` but bootstrap.min.css set `[hidden] { display: none !important; }` so we also need the `!important` here to be able to override the default hidden behavior on the sphinx rendered scikit-learn.org. See: https://github.com/scikit-learn/scikit-learn/issues/21755 */display: inline-block !important;position: relative;}#sk-container-id-4 div.sk-text-repr-fallback {display: none;}</style><div id=\"sk-container-id-4\" class=\"sk-top-container\"><div class=\"sk-text-repr-fallback\"><pre>RandomForestRegressor(random_state=5)</pre><b>In a Jupyter environment, please rerun this cell to show the HTML representation or trust the notebook. <br />On GitHub, the HTML representation is unable to render, please try loading this page with nbviewer.org.</b></div><div class=\"sk-container\" hidden><div class=\"sk-item\"><div class=\"sk-estimator sk-toggleable\"><input class=\"sk-toggleable__control sk-hidden--visually\" id=\"sk-estimator-id-16\" type=\"checkbox\" checked><label for=\"sk-estimator-id-16\" class=\"sk-toggleable__label sk-toggleable__label-arrow\">RandomForestRegressor</label><div class=\"sk-toggleable__content\"><pre>RandomForestRegressor(random_state=5)</pre></div></div></div></div></div>"
      ],
      "text/plain": [
       "RandomForestRegressor(random_state=5)"
      ]
     },
     "execution_count": 33,
     "metadata": {},
     "output_type": "execute_result"
    }
   ],
   "source": [
    "# 랜덤 포레스트 라이브러리 #\n",
    "from sklearn.ensemble import RandomForestRegressor\n",
    "\n",
    "rfr = RandomForestRegressor(random_state=5)\n",
    "rfr.fit(X_train, Y_train)"
   ]
  },
  {
   "cell_type": "code",
   "execution_count": 34,
   "metadata": {},
   "outputs": [
    {
     "name": "stdout",
     "output_type": "stream",
     "text": [
      "모델 < RandomForestRegressor >\n",
      "Train Set Score1 : 0.9019348459896986\n",
      "Test  Set Score1 : 0.40508043615422573\n"
     ]
    }
   ],
   "source": [
    "# 테스트 #\n",
    "print(\"모델 < RandomForestRegressor >\")\n",
    "print(\"Train Set Score1 : {}\".format(rfr.score(X_train, Y_train)))\n",
    "print(\"Test  Set Score1 : {}\".format(rfr.score(X_test, Y_test)))"
   ]
  },
  {
   "cell_type": "markdown",
   "metadata": {},
   "source": [
    "## 부스팅\n",
    "\n",
    "- 이전 학습에 대하여 잘못 예측된 데이터에 가중치를 부여해 오차를 보완해 나가는 방식\n",
    "- 성능이 매우 우수\n",
    "- 잘못된 레이블링이나 아웃라이어에 필요 이상으로 민감\n",
    "- 학습 시간이 오래걸림\n",
    "- 대표적인 기법 : AdaBoost, GradientBoost, LightGBM, XGBoost\n",
    "\n",
    "### AdaBoost"
   ]
  },
  {
   "cell_type": "code",
   "execution_count": null,
   "metadata": {},
   "outputs": [],
   "source": []
  }
 ],
 "metadata": {
  "kernelspec": {
   "display_name": "Python 3.10.1 64-bit",
   "language": "python",
   "name": "python3"
  },
  "language_info": {
   "codemirror_mode": {
    "name": "ipython",
    "version": 3
   },
   "file_extension": ".py",
   "mimetype": "text/x-python",
   "name": "python",
   "nbconvert_exporter": "python",
   "pygments_lexer": "ipython3",
   "version": "3.10.1"
  },
  "orig_nbformat": 4,
  "vscode": {
   "interpreter": {
    "hash": "c5c2c3c852cea3612ae75d7177c7db88d742ce4c76218675a91b833287f5ecf2"
   }
  }
 },
 "nbformat": 4,
 "nbformat_minor": 2
}
